{
 "cells": [
  {
   "cell_type": "code",
   "execution_count": 1,
   "metadata": {},
   "outputs": [],
   "source": [
    "import pandas as pd\n",
    "import numpy as np\n",
    "import os\n",
    "from pandas import Series, DataFrame, Panel\n",
    "from datetime import datetime\n"
   ]
  },
  {
   "cell_type": "code",
   "execution_count": null,
   "metadata": {},
   "outputs": [],
   "source": [
    "\n",
    "import plotly.plotly as py\n",
    "import cufflinks as cf\n",
    "\n",
    "\n",
    "\n",
    "from matplotlib import pyplot\n"
   ]
  },
  {
   "cell_type": "code",
   "execution_count": null,
   "metadata": {},
   "outputs": [],
   "source": [
    "filename = './data/unhashed/russia_201901_1_tweets_csv_unhashed.csv'"
   ]
  },
  {
   "cell_type": "code",
   "execution_count": 2,
   "metadata": {},
   "outputs": [],
   "source": [
    "def processHour(filename = None):\n",
    "    df = pd.read_csv(filename, dtype = {\n",
    "        \"tweetid\": str,\n",
    "        \"userid\": str,\n",
    "        \"user_display_name\": str,\n",
    "        \"user_screen_name\": str,\n",
    "        \"user_reported_location\": str,\n",
    "        \"user_profile_description\": str,\n",
    "        \"user_profile_url\": str,\n",
    "        \"follower_count\": str,\n",
    "        \"following_count\": str,\n",
    "        \"account_creation_date\": str,\n",
    "        \"account_language\": str,\n",
    "        \"tweet_text\": str,\n",
    "        \"tweet_time\": str,\n",
    "        \"tweet_client_name\": str,\n",
    "        \"in_reply_to_tweetid\": str,\n",
    "        \"in_reply_to_userid\": str,\n",
    "        \"quoted_tweet_tweetid\": str,\n",
    "        \"is_retweet\": bool,\n",
    "        \"retweet_userid\": str,\n",
    "        \"retweet_tweetid\": str,\n",
    "        \"latitude\": str,\n",
    "        \"longitude\": str,\n",
    "        \"quote_count\": np.float64,\n",
    "        \"reply_count\": np.float64,\n",
    "        \"like_count\": np.float64,\n",
    "        \"retweet_count\": np.float64,\n",
    "        \"hashtags\": str,\n",
    "        \"urls\": str,\n",
    "        \"user_mentions\": str,\n",
    "        \"poll_choices\": str,\n",
    "    })\n",
    "    \n",
    "    df['tweet_record_time'] = pd.to_datetime(df['tweet_time'], format ='%Y-%m-%d %H:%M')\n",
    "\n",
    "\n",
    "    time = []\n",
    "\n",
    "    for i in df['tweet_record_time']:\n",
    "        time.append(i.time())\n",
    "\n",
    "    df['time'] = time\n",
    "\n",
    "\n",
    "    hour =[]\n",
    "\n",
    "\n",
    "    for i in df['time']:\n",
    "        hour.append(i.hour)\n",
    "     \n",
    "\n",
    "    df['hour'] = hour\n",
    "\n",
    "    return df"
   ]
  },
  {
   "cell_type": "code",
   "execution_count": 3,
   "metadata": {},
   "outputs": [],
   "source": [
    "filename = './data/unhashed/venezuela_201901_2_tweets_csv_unhashed.csv'\n",
    "venezuala_two = processHour(filename)"
   ]
  },
  {
   "cell_type": "code",
   "execution_count": 4,
   "metadata": {},
   "outputs": [],
   "source": [
    "df_hour = venezuala_two.groupby(['hour']).size()\n",
    "\n",
    "df_hour = DataFrame(df_hour)\n",
    "\n",
    "df_hour.reset_index(inplace=True)\n"
   ]
  },
  {
   "cell_type": "code",
   "execution_count": 7,
   "metadata": {},
   "outputs": [],
   "source": [
    "\n",
    "df_hour.columns = ['hour', 'post']\n",
    "df_hour['country'] = 'venezuela'"
   ]
  },
  {
   "cell_type": "code",
   "execution_count": null,
   "metadata": {},
   "outputs": [],
   "source": []
  },
  {
   "cell_type": "code",
   "execution_count": 8,
   "metadata": {},
   "outputs": [],
   "source": [
    "df_hour.to_csv(\"Hour.csv\")"
   ]
  },
  {
   "cell_type": "code",
   "execution_count": 26,
   "metadata": {},
   "outputs": [],
   "source": [
    "# df_hour.sort_values(by=['post'],ascending = False)"
   ]
  },
  {
   "cell_type": "code",
   "execution_count": 8,
   "metadata": {},
   "outputs": [],
   "source": [
    "sum = df_hour.post.sum()"
   ]
  },
  {
   "cell_type": "code",
   "execution_count": 9,
   "metadata": {},
   "outputs": [
    {
     "data": {
      "text/plain": [
       "984980"
      ]
     },
     "execution_count": 9,
     "metadata": {},
     "output_type": "execute_result"
    }
   ],
   "source": [
    "sum"
   ]
  },
  {
   "cell_type": "code",
   "execution_count": null,
   "metadata": {},
   "outputs": [],
   "source": [
    "max = df_hour.post.max()"
   ]
  },
  {
   "cell_type": "code",
   "execution_count": 7,
   "metadata": {},
   "outputs": [
    {
     "data": {
      "text/plain": [
       "71707"
      ]
     },
     "execution_count": 7,
     "metadata": {},
     "output_type": "execute_result"
    }
   ],
   "source": [
    "max"
   ]
  },
  {
   "cell_type": "code",
   "execution_count": 10,
   "metadata": {},
   "outputs": [
    {
     "data": {
      "text/plain": [
       "0.0728004629535625"
      ]
     },
     "execution_count": 10,
     "metadata": {},
     "output_type": "execute_result"
    }
   ],
   "source": [
    "max/sum"
   ]
  },
  {
   "cell_type": "code",
   "execution_count": 3,
   "metadata": {},
   "outputs": [],
   "source": [
    "def getPeakAttention(df, country):\n",
    "    df_hr = df.groupby(['hour']).size()\n",
    "\n",
    "    df_hr = DataFrame(df_hr)\n",
    "\n",
    "    df_hr.reset_index(inplace=True)\n",
    "\n",
    "    df_hr.columns = ['hour', 'post']\n",
    "    df_hr['country'] = country\n",
    "    df_hr.to_csv(\"Hour.csv\", mode = 'a', header = False)\n",
    "#     sum = df_hr.post.sum()\n",
    "#     max = df_hr.post.max()\n",
    "#     print(\"Sum: \", sum , \"\\nMax: \", max, \"\\n\")\n",
    "#     return max/sum"
   ]
  },
  {
   "cell_type": "code",
   "execution_count": 4,
   "metadata": {},
   "outputs": [],
   "source": [
    "filename = './data/unhashed/iranian_tweets_csv_unhashed.csv'\n",
    "iranian = processHour(filename)"
   ]
  },
  {
   "cell_type": "code",
   "execution_count": 5,
   "metadata": {},
   "outputs": [],
   "source": [
    "getPeakAttention(iranian, 'iranian')"
   ]
  },
  {
   "cell_type": "code",
   "execution_count": 8,
   "metadata": {},
   "outputs": [
    {
     "data": {
      "text/plain": [
       "0.09242646063533451"
      ]
     },
     "execution_count": 8,
     "metadata": {},
     "output_type": "execute_result"
    }
   ],
   "source": [
    "iranian_peak"
   ]
  },
  {
   "cell_type": "code",
   "execution_count": 6,
   "metadata": {},
   "outputs": [],
   "source": [
    "filename = './data/unhashed/bangladesh_201901_1_tweets_csv_unhashed.csv'\n",
    "bangladesh = processHour(filename)"
   ]
  },
  {
   "cell_type": "code",
   "execution_count": 7,
   "metadata": {},
   "outputs": [],
   "source": [
    "getPeakAttention(bangladesh, 'bangladesh')"
   ]
  },
  {
   "cell_type": "code",
   "execution_count": 8,
   "metadata": {},
   "outputs": [],
   "source": [
    "filename = './data/unhashed/russia_201901_1_tweets_csv_unhashed.csv'\n",
    "russia = processHour(filename)"
   ]
  },
  {
   "cell_type": "code",
   "execution_count": 9,
   "metadata": {},
   "outputs": [],
   "source": [
    "getPeakAttention(russia, 'russia')"
   ]
  },
  {
   "cell_type": "code",
   "execution_count": 10,
   "metadata": {},
   "outputs": [],
   "source": [
    "hour_df = pd.read_csv(\"Hour.csv\")"
   ]
  },
  {
   "cell_type": "code",
   "execution_count": 12,
   "metadata": {},
   "outputs": [
    {
     "data": {
      "text/plain": [
       "Index(['Unnamed: 0', 'hour', 'post', 'country'], dtype='object')"
      ]
     },
     "execution_count": 12,
     "metadata": {},
     "output_type": "execute_result"
    }
   ],
   "source": [
    "hour_df.columns"
   ]
  },
  {
   "cell_type": "code",
   "execution_count": 15,
   "metadata": {},
   "outputs": [],
   "source": [
    "hour_df = hour_df.drop(columns=['Unnamed: 0'])"
   ]
  },
  {
   "cell_type": "code",
   "execution_count": 18,
   "metadata": {},
   "outputs": [],
   "source": [
    "peak_df = {}"
   ]
  },
  {
   "cell_type": "code",
   "execution_count": 19,
   "metadata": {},
   "outputs": [],
   "source": [
    "for country in hour_df.country:\n",
    "    temp = hour_df[hour_df.country==country]\n",
    "    peak_df[country] = (temp.post.max()/temp.post.sum())"
   ]
  },
  {
   "cell_type": "code",
   "execution_count": 20,
   "metadata": {},
   "outputs": [
    {
     "data": {
      "text/plain": [
       "{'venezuela': 0.0728004629535625,\n",
       " 'iranian': 0.09242646063533451,\n",
       " 'bangladesh': 0.08327611200122072,\n",
       " 'russia': 0.0680304111357655}"
      ]
     },
     "execution_count": 20,
     "metadata": {},
     "output_type": "execute_result"
    }
   ],
   "source": [
    "peak_df"
   ]
  }
 ],
 "metadata": {
  "kernelspec": {
   "display_name": "Python 3",
   "language": "python",
   "name": "python3"
  },
  "language_info": {
   "codemirror_mode": {
    "name": "ipython",
    "version": 3
   },
   "file_extension": ".py",
   "mimetype": "text/x-python",
   "name": "python",
   "nbconvert_exporter": "python",
   "pygments_lexer": "ipython3",
   "version": "3.7.2"
  }
 },
 "nbformat": 4,
 "nbformat_minor": 2
}
