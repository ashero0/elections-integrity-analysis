{
 "cells": [
  {
   "cell_type": "code",
   "execution_count": 1,
   "metadata": {},
   "outputs": [],
   "source": [
    "import pandas as pd\n",
    "import numpy as np\n",
    "import os\n",
    "from pandas import Series, DataFrame, Panel\n",
    "from datetime import datetime"
   ]
  },
  {
   "cell_type": "code",
   "execution_count": 2,
   "metadata": {},
   "outputs": [],
   "source": [
    "import plotly.plotly as py\n",
    "import cufflinks as cf\n"
   ]
  },
  {
   "cell_type": "code",
   "execution_count": 3,
   "metadata": {},
   "outputs": [],
   "source": [
    "\n",
    "from matplotlib import pyplot\n"
   ]
  },
  {
   "cell_type": "code",
   "execution_count": 4,
   "metadata": {},
   "outputs": [],
   "source": [
    "filename = './data/venezuela_201901_2_tweets_csv_hashed.csv'"
   ]
  },
  {
   "cell_type": "code",
   "execution_count": 6,
   "metadata": {},
   "outputs": [],
   "source": [
    "venezuela = pd.read_csv(filename, dtype = {\n",
    "    \"tweetid\": str,\n",
    "    \"userid\": str,\n",
    "    \"user_display_name\": str,\n",
    "    \"user_screen_name\": str,\n",
    "    \"user_reported_location\": str,\n",
    "    \"user_profile_description\": str,\n",
    "    \"user_profile_url\": str,\n",
    "    \"follower_count\": str,\n",
    "    \"following_count\": str,\n",
    "    \"account_creation_date\": str,\n",
    "    \"account_language\": str,\n",
    "    \"tweet_text\": str,\n",
    "    \"tweet_time\": str,\n",
    "    \"tweet_client_name\": str,\n",
    "    \"in_reply_to_tweetid\": str,\n",
    "    \"in_reply_to_userid\": str,\n",
    "    \"quoted_tweet_tweetid\": str,\n",
    "    \"is_retweet\": bool,\n",
    "    \"retweet_userid\": str,\n",
    "    \"retweet_tweetid\": str,\n",
    "    \"latitude\": str,\n",
    "    \"longitude\": str,\n",
    "    \"quote_count\": str,\n",
    "    \"reply_count\": str,\n",
    "    \"like_count\": str,\n",
    "    \"retweet_count\": str,\n",
    "    \"hashtags\": str,\n",
    "    \"urls\": str,\n",
    "    \"user_mentions\": str,\n",
    "    \"poll_choices\": str,\n",
    "})"
   ]
  },
  {
   "cell_type": "code",
   "execution_count": 7,
   "metadata": {},
   "outputs": [
    {
     "name": "stdout",
     "output_type": "stream",
     "text": [
      "984980\n"
     ]
    }
   ],
   "source": [
    "print(len(venezuela))"
   ]
  },
  {
   "cell_type": "code",
   "execution_count": 11,
   "metadata": {},
   "outputs": [
    {
     "data": {
      "text/plain": [
       "Index(['tweetid', 'userid', 'user_display_name', 'user_screen_name',\n",
       "       'user_reported_location', 'user_profile_description',\n",
       "       'user_profile_url', 'follower_count', 'following_count',\n",
       "       'account_creation_date', 'account_language', 'tweet_text', 'tweet_time',\n",
       "       'tweet_client_name', 'in_reply_to_tweetid', 'in_reply_to_userid',\n",
       "       'quoted_tweet_tweetid', 'is_retweet', 'retweet_userid',\n",
       "       'retweet_tweetid', 'latitude', 'longitude', 'quote_count',\n",
       "       'reply_count', 'like_count', 'retweet_count', 'hashtags', 'urls',\n",
       "       'user_mentions', 'poll_choices'],\n",
       "      dtype='object')"
      ]
     },
     "execution_count": 11,
     "metadata": {},
     "output_type": "execute_result"
    }
   ],
   "source": [
    "venezuela.columns\n"
   ]
  },
  {
   "cell_type": "code",
   "execution_count": null,
   "metadata": {},
   "outputs": [],
   "source": [
    "#russia['tweet_time']"
   ]
  },
  {
   "cell_type": "code",
   "execution_count": 8,
   "metadata": {},
   "outputs": [],
   "source": [
    "venezuela['tweet_record_time'] = pd.to_datetime(venezuela['tweet_time'], format ='%Y-%m-%d %H:%M')"
   ]
  },
  {
   "cell_type": "code",
   "execution_count": null,
   "metadata": {},
   "outputs": [],
   "source": [
    "#russia['tweet_record_time']"
   ]
  },
  {
   "cell_type": "code",
   "execution_count": 9,
   "metadata": {},
   "outputs": [],
   "source": [
    "time = []"
   ]
  },
  {
   "cell_type": "code",
   "execution_count": 10,
   "metadata": {},
   "outputs": [],
   "source": [
    "for i in venezuela['tweet_record_time']:\n",
    "    time.append(i.time())\n",
    "    #print(i.time())"
   ]
  },
  {
   "cell_type": "code",
   "execution_count": 11,
   "metadata": {},
   "outputs": [],
   "source": [
    "venezuela['time'] = time"
   ]
  },
  {
   "cell_type": "code",
   "execution_count": 12,
   "metadata": {},
   "outputs": [],
   "source": [
    "hour =[]"
   ]
  },
  {
   "cell_type": "code",
   "execution_count": 13,
   "metadata": {},
   "outputs": [],
   "source": [
    "for i in venezuela['time']:\n",
    "    hour.append(i.hour)\n",
    "    #print(i.time())"
   ]
  },
  {
   "cell_type": "code",
   "execution_count": 14,
   "metadata": {},
   "outputs": [],
   "source": [
    "venezuela['hour'] = hour"
   ]
  },
  {
   "cell_type": "code",
   "execution_count": 15,
   "metadata": {},
   "outputs": [
    {
     "data": {
      "text/html": [
       "<div>\n",
       "<style scoped>\n",
       "    .dataframe tbody tr th:only-of-type {\n",
       "        vertical-align: middle;\n",
       "    }\n",
       "\n",
       "    .dataframe tbody tr th {\n",
       "        vertical-align: top;\n",
       "    }\n",
       "\n",
       "    .dataframe thead th {\n",
       "        text-align: right;\n",
       "    }\n",
       "</style>\n",
       "<table border=\"1\" class=\"dataframe\">\n",
       "  <thead>\n",
       "    <tr style=\"text-align: right;\">\n",
       "      <th></th>\n",
       "      <th>tweetid</th>\n",
       "      <th>userid</th>\n",
       "      <th>user_display_name</th>\n",
       "      <th>user_screen_name</th>\n",
       "      <th>user_reported_location</th>\n",
       "      <th>user_profile_description</th>\n",
       "      <th>user_profile_url</th>\n",
       "      <th>follower_count</th>\n",
       "      <th>following_count</th>\n",
       "      <th>account_creation_date</th>\n",
       "      <th>...</th>\n",
       "      <th>reply_count</th>\n",
       "      <th>like_count</th>\n",
       "      <th>retweet_count</th>\n",
       "      <th>hashtags</th>\n",
       "      <th>urls</th>\n",
       "      <th>user_mentions</th>\n",
       "      <th>poll_choices</th>\n",
       "      <th>tweet_record_time</th>\n",
       "      <th>time</th>\n",
       "      <th>hour</th>\n",
       "    </tr>\n",
       "  </thead>\n",
       "  <tbody>\n",
       "    <tr>\n",
       "      <th>0</th>\n",
       "      <td>891655985818992640</td>\n",
       "      <td>BqO5SEFJJES3iQwLvE30hQTmi9WNen+8zUmcUGbSLY=</td>\n",
       "      <td>BqO5SEFJJES3iQwLvE30hQTmi9WNen+8zUmcUGbSLY=</td>\n",
       "      <td>BqO5SEFJJES3iQwLvE30hQTmi9WNen+8zUmcUGbSLY=</td>\n",
       "      <td>Estados Unidos</td>\n",
       "      <td>#Trump #MAGA #DrainTheSwamp #AmericaFirst Prou...</td>\n",
       "      <td>https://t.co/XZtuPeOA9N</td>\n",
       "      <td>890</td>\n",
       "      <td>3759</td>\n",
       "      <td>2017-07-27</td>\n",
       "      <td>...</td>\n",
       "      <td>0.0</td>\n",
       "      <td>0.0</td>\n",
       "      <td>0.0</td>\n",
       "      <td>[maga, jud]</td>\n",
       "      <td>[https://twitter.com/realdonaldtrump/status/89...</td>\n",
       "      <td>[]</td>\n",
       "      <td>NaN</td>\n",
       "      <td>2017-07-30 13:45:00</td>\n",
       "      <td>13:45:00</td>\n",
       "      <td>13</td>\n",
       "    </tr>\n",
       "    <tr>\n",
       "      <th>1</th>\n",
       "      <td>898220124011888640</td>\n",
       "      <td>BqO5SEFJJES3iQwLvE30hQTmi9WNen+8zUmcUGbSLY=</td>\n",
       "      <td>BqO5SEFJJES3iQwLvE30hQTmi9WNen+8zUmcUGbSLY=</td>\n",
       "      <td>BqO5SEFJJES3iQwLvE30hQTmi9WNen+8zUmcUGbSLY=</td>\n",
       "      <td>Estados Unidos</td>\n",
       "      <td>#Trump #MAGA #DrainTheSwamp #AmericaFirst Prou...</td>\n",
       "      <td>https://t.co/XZtuPeOA9N</td>\n",
       "      <td>890</td>\n",
       "      <td>3759</td>\n",
       "      <td>2017-07-27</td>\n",
       "      <td>...</td>\n",
       "      <td>0.0</td>\n",
       "      <td>0.0</td>\n",
       "      <td>0.0</td>\n",
       "      <td>[ross, ros]</td>\n",
       "      <td>[http://ift.tt/2wTlunO]</td>\n",
       "      <td>[]</td>\n",
       "      <td>NaN</td>\n",
       "      <td>2017-08-17 16:29:00</td>\n",
       "      <td>16:29:00</td>\n",
       "      <td>16</td>\n",
       "    </tr>\n",
       "    <tr>\n",
       "      <th>2</th>\n",
       "      <td>898598803166646272</td>\n",
       "      <td>BqO5SEFJJES3iQwLvE30hQTmi9WNen+8zUmcUGbSLY=</td>\n",
       "      <td>BqO5SEFJJES3iQwLvE30hQTmi9WNen+8zUmcUGbSLY=</td>\n",
       "      <td>BqO5SEFJJES3iQwLvE30hQTmi9WNen+8zUmcUGbSLY=</td>\n",
       "      <td>Estados Unidos</td>\n",
       "      <td>#Trump #MAGA #DrainTheSwamp #AmericaFirst Prou...</td>\n",
       "      <td>https://t.co/XZtuPeOA9N</td>\n",
       "      <td>890</td>\n",
       "      <td>3759</td>\n",
       "      <td>2017-07-27</td>\n",
       "      <td>...</td>\n",
       "      <td>0.0</td>\n",
       "      <td>1.0</td>\n",
       "      <td>0.0</td>\n",
       "      <td>[ross, ros]</td>\n",
       "      <td>[http://ift.tt/2v8p5w9]</td>\n",
       "      <td>[]</td>\n",
       "      <td>NaN</td>\n",
       "      <td>2017-08-18 17:33:00</td>\n",
       "      <td>17:33:00</td>\n",
       "      <td>17</td>\n",
       "    </tr>\n",
       "    <tr>\n",
       "      <th>3</th>\n",
       "      <td>897152105391239168</td>\n",
       "      <td>BqO5SEFJJES3iQwLvE30hQTmi9WNen+8zUmcUGbSLY=</td>\n",
       "      <td>BqO5SEFJJES3iQwLvE30hQTmi9WNen+8zUmcUGbSLY=</td>\n",
       "      <td>BqO5SEFJJES3iQwLvE30hQTmi9WNen+8zUmcUGbSLY=</td>\n",
       "      <td>Estados Unidos</td>\n",
       "      <td>#Trump #MAGA #DrainTheSwamp #AmericaFirst Prou...</td>\n",
       "      <td>https://t.co/XZtuPeOA9N</td>\n",
       "      <td>890</td>\n",
       "      <td>3759</td>\n",
       "      <td>2017-07-27</td>\n",
       "      <td>...</td>\n",
       "      <td>0.0</td>\n",
       "      <td>0.0</td>\n",
       "      <td>0.0</td>\n",
       "      <td>[ross, ros]</td>\n",
       "      <td>[http://ift.tt/2vxxlcL]</td>\n",
       "      <td>[]</td>\n",
       "      <td>NaN</td>\n",
       "      <td>2017-08-14 17:45:00</td>\n",
       "      <td>17:45:00</td>\n",
       "      <td>17</td>\n",
       "    </tr>\n",
       "    <tr>\n",
       "      <th>4</th>\n",
       "      <td>892363004888666114</td>\n",
       "      <td>BqO5SEFJJES3iQwLvE30hQTmi9WNen+8zUmcUGbSLY=</td>\n",
       "      <td>BqO5SEFJJES3iQwLvE30hQTmi9WNen+8zUmcUGbSLY=</td>\n",
       "      <td>BqO5SEFJJES3iQwLvE30hQTmi9WNen+8zUmcUGbSLY=</td>\n",
       "      <td>Estados Unidos</td>\n",
       "      <td>#Trump #MAGA #DrainTheSwamp #AmericaFirst Prou...</td>\n",
       "      <td>https://t.co/XZtuPeOA9N</td>\n",
       "      <td>890</td>\n",
       "      <td>3759</td>\n",
       "      <td>2017-07-27</td>\n",
       "      <td>...</td>\n",
       "      <td>0.0</td>\n",
       "      <td>0.0</td>\n",
       "      <td>0.0</td>\n",
       "      <td>[ross, ros]</td>\n",
       "      <td>[http://ift.tt/2hjT2rJ]</td>\n",
       "      <td>[]</td>\n",
       "      <td>NaN</td>\n",
       "      <td>2017-08-01 12:34:00</td>\n",
       "      <td>12:34:00</td>\n",
       "      <td>12</td>\n",
       "    </tr>\n",
       "  </tbody>\n",
       "</table>\n",
       "<p>5 rows × 33 columns</p>\n",
       "</div>"
      ],
      "text/plain": [
       "              tweetid                                       userid  \\\n",
       "0  891655985818992640  BqO5SEFJJES3iQwLvE30hQTmi9WNen+8zUmcUGbSLY=   \n",
       "1  898220124011888640  BqO5SEFJJES3iQwLvE30hQTmi9WNen+8zUmcUGbSLY=   \n",
       "2  898598803166646272  BqO5SEFJJES3iQwLvE30hQTmi9WNen+8zUmcUGbSLY=   \n",
       "3  897152105391239168  BqO5SEFJJES3iQwLvE30hQTmi9WNen+8zUmcUGbSLY=   \n",
       "4  892363004888666114  BqO5SEFJJES3iQwLvE30hQTmi9WNen+8zUmcUGbSLY=   \n",
       "\n",
       "                             user_display_name  \\\n",
       "0  BqO5SEFJJES3iQwLvE30hQTmi9WNen+8zUmcUGbSLY=   \n",
       "1  BqO5SEFJJES3iQwLvE30hQTmi9WNen+8zUmcUGbSLY=   \n",
       "2  BqO5SEFJJES3iQwLvE30hQTmi9WNen+8zUmcUGbSLY=   \n",
       "3  BqO5SEFJJES3iQwLvE30hQTmi9WNen+8zUmcUGbSLY=   \n",
       "4  BqO5SEFJJES3iQwLvE30hQTmi9WNen+8zUmcUGbSLY=   \n",
       "\n",
       "                              user_screen_name user_reported_location  \\\n",
       "0  BqO5SEFJJES3iQwLvE30hQTmi9WNen+8zUmcUGbSLY=         Estados Unidos   \n",
       "1  BqO5SEFJJES3iQwLvE30hQTmi9WNen+8zUmcUGbSLY=         Estados Unidos   \n",
       "2  BqO5SEFJJES3iQwLvE30hQTmi9WNen+8zUmcUGbSLY=         Estados Unidos   \n",
       "3  BqO5SEFJJES3iQwLvE30hQTmi9WNen+8zUmcUGbSLY=         Estados Unidos   \n",
       "4  BqO5SEFJJES3iQwLvE30hQTmi9WNen+8zUmcUGbSLY=         Estados Unidos   \n",
       "\n",
       "                            user_profile_description         user_profile_url  \\\n",
       "0  #Trump #MAGA #DrainTheSwamp #AmericaFirst Prou...  https://t.co/XZtuPeOA9N   \n",
       "1  #Trump #MAGA #DrainTheSwamp #AmericaFirst Prou...  https://t.co/XZtuPeOA9N   \n",
       "2  #Trump #MAGA #DrainTheSwamp #AmericaFirst Prou...  https://t.co/XZtuPeOA9N   \n",
       "3  #Trump #MAGA #DrainTheSwamp #AmericaFirst Prou...  https://t.co/XZtuPeOA9N   \n",
       "4  #Trump #MAGA #DrainTheSwamp #AmericaFirst Prou...  https://t.co/XZtuPeOA9N   \n",
       "\n",
       "  follower_count following_count account_creation_date ...  reply_count  \\\n",
       "0            890            3759            2017-07-27 ...          0.0   \n",
       "1            890            3759            2017-07-27 ...          0.0   \n",
       "2            890            3759            2017-07-27 ...          0.0   \n",
       "3            890            3759            2017-07-27 ...          0.0   \n",
       "4            890            3759            2017-07-27 ...          0.0   \n",
       "\n",
       "  like_count retweet_count     hashtags  \\\n",
       "0        0.0           0.0  [maga, jud]   \n",
       "1        0.0           0.0  [ross, ros]   \n",
       "2        1.0           0.0  [ross, ros]   \n",
       "3        0.0           0.0  [ross, ros]   \n",
       "4        0.0           0.0  [ross, ros]   \n",
       "\n",
       "                                                urls user_mentions  \\\n",
       "0  [https://twitter.com/realdonaldtrump/status/89...            []   \n",
       "1                            [http://ift.tt/2wTlunO]            []   \n",
       "2                            [http://ift.tt/2v8p5w9]            []   \n",
       "3                            [http://ift.tt/2vxxlcL]            []   \n",
       "4                            [http://ift.tt/2hjT2rJ]            []   \n",
       "\n",
       "  poll_choices   tweet_record_time      time hour  \n",
       "0          NaN 2017-07-30 13:45:00  13:45:00   13  \n",
       "1          NaN 2017-08-17 16:29:00  16:29:00   16  \n",
       "2          NaN 2017-08-18 17:33:00  17:33:00   17  \n",
       "3          NaN 2017-08-14 17:45:00  17:45:00   17  \n",
       "4          NaN 2017-08-01 12:34:00  12:34:00   12  \n",
       "\n",
       "[5 rows x 33 columns]"
      ]
     },
     "execution_count": 15,
     "metadata": {},
     "output_type": "execute_result"
    }
   ],
   "source": [
    "venezuela.head()"
   ]
  },
  {
   "cell_type": "code",
   "execution_count": 32,
   "metadata": {},
   "outputs": [],
   "source": [
    "#cf.set_config_file(offline=False, world_readable=True, theme='ggplot')\n",
    "\n",
    "#russia.iplot(x='time',kind='scatter') "
   ]
  },
  {
   "cell_type": "code",
   "execution_count": 16,
   "metadata": {},
   "outputs": [
    {
     "data": {
      "text/plain": [
       "<matplotlib.axes._subplots.AxesSubplot at 0x2420facf2e8>"
      ]
     },
     "execution_count": 16,
     "metadata": {},
     "output_type": "execute_result"
    },
    {
     "data": {
      "image/png": "[encoded data removed]",
      "text/plain": [
       "<Figure size 432x288 with 1 Axes>"
      ]
     },
     "metadata": {
      "needs_background": "light"
     },
     "output_type": "display_data"
    }
   ],
   "source": [
    "venezuela['hour'].hist(bins = 30)"
   ]
  },
  {
   "cell_type": "code",
   "execution_count": 31,
   "metadata": {},
   "outputs": [],
   "source": [
    "#russia['hour'].plot()\n",
    "#pyplot.show()"
   ]
  },
  {
   "cell_type": "code",
   "execution_count": 28,
   "metadata": {},
   "outputs": [],
   "source": [
    "import matplotlib\n",
    "import matplotlib.pyplot as plt"
   ]
  },
  {
   "cell_type": "code",
   "execution_count": 17,
   "metadata": {},
   "outputs": [
    {
     "data": {
      "text/html": [
       "<div>\n",
       "<style scoped>\n",
       "    .dataframe tbody tr th:only-of-type {\n",
       "        vertical-align: middle;\n",
       "    }\n",
       "\n",
       "    .dataframe tbody tr th {\n",
       "        vertical-align: top;\n",
       "    }\n",
       "\n",
       "    .dataframe thead th {\n",
       "        text-align: right;\n",
       "    }\n",
       "</style>\n",
       "<table border=\"1\" class=\"dataframe\">\n",
       "  <thead>\n",
       "    <tr style=\"text-align: right;\">\n",
       "      <th>col_0</th>\n",
       "      <th>count</th>\n",
       "    </tr>\n",
       "    <tr>\n",
       "      <th>user_reported_location</th>\n",
       "      <th></th>\n",
       "    </tr>\n",
       "  </thead>\n",
       "  <tbody>\n",
       "    <tr>\n",
       "      <th>Madrid, Comunidad de Madrid</th>\n",
       "      <td>2</td>\n",
       "    </tr>\n",
       "    <tr>\n",
       "      <th>estados unidos</th>\n",
       "      <td>412</td>\n",
       "    </tr>\n",
       "    <tr>\n",
       "      <th>Venezuela</th>\n",
       "      <td>915</td>\n",
       "    </tr>\n",
       "    <tr>\n",
       "      <th>España</th>\n",
       "      <td>2192</td>\n",
       "    </tr>\n",
       "    <tr>\n",
       "      <th>United States</th>\n",
       "      <td>6474</td>\n",
       "    </tr>\n",
       "    <tr>\n",
       "      <th>Estados Unidos</th>\n",
       "      <td>596740</td>\n",
       "    </tr>\n",
       "  </tbody>\n",
       "</table>\n",
       "</div>"
      ],
      "text/plain": [
       "col_0                         count\n",
       "user_reported_location             \n",
       "Madrid, Comunidad de Madrid       2\n",
       "estados unidos                  412\n",
       "Venezuela                       915\n",
       "España                         2192\n",
       "United States                  6474\n",
       "Estados Unidos               596740"
      ]
     },
     "execution_count": 17,
     "metadata": {},
     "output_type": "execute_result"
    }
   ],
   "source": [
    "pd.crosstab(index=venezuela['user_reported_location'],   columns=\"count\").sort_values(by=['count'])"
   ]
  },
  {
   "cell_type": "code",
   "execution_count": null,
   "metadata": {},
   "outputs": [],
   "source": []
  },
  {
   "cell_type": "code",
   "execution_count": null,
   "metadata": {},
   "outputs": [],
   "source": []
  }
 ],
 "metadata": {
  "kernelspec": {
   "display_name": "Python 3",
   "language": "python",
   "name": "python3"
  },
  "language_info": {
   "codemirror_mode": {
    "name": "ipython",
    "version": 3
   },
   "file_extension": ".py",
   "mimetype": "text/x-python",
   "name": "python",
   "nbconvert_exporter": "python",
   "pygments_lexer": "ipython3",
   "version": "3.6.6"
  }
 },
 "nbformat": 4,
 "nbformat_minor": 2
}
