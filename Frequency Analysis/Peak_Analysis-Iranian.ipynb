{
 "cells": [
  {
   "cell_type": "code",
   "execution_count": 1,
   "metadata": {},
   "outputs": [],
   "source": [
    "import pandas as pd\n",
    "import numpy as np\n",
    "import os\n",
    "from pandas import Series, DataFrame, Panel\n",
    "from datetime import datetime\n"
   ]
  },
  {
   "cell_type": "code",
   "execution_count": 16,
   "metadata": {},
   "outputs": [],
   "source": [
    "\n",
    "import plotly.plotly as py\n",
    "import cufflinks as cf\n",
    "import seaborn as sns\n",
    "\n",
    "\n",
    "from matplotlib import pyplot\n"
   ]
  },
  {
   "cell_type": "code",
   "execution_count": 22,
   "metadata": {},
   "outputs": [],
   "source": [
    "from scipy import stats\n",
    "import matplotlib as mpl\n",
    "import matplotlib.pyplot as plt"
   ]
  },
  {
   "cell_type": "code",
   "execution_count": null,
   "metadata": {},
   "outputs": [],
   "source": [
    "# filename = './data/unhashed/russia_201901_1_tweets_csv_unhashed.csv'"
   ]
  },
  {
   "cell_type": "code",
   "execution_count": 2,
   "metadata": {},
   "outputs": [],
   "source": [
    "def processHour(filename = None):\n",
    "    df = pd.read_csv(filename, dtype = {\n",
    "        \"tweetid\": str,\n",
    "        \"userid\": str,\n",
    "        \"user_display_name\": str,\n",
    "        \"user_screen_name\": str,\n",
    "        \"user_reported_location\": str,\n",
    "        \"user_profile_description\": str,\n",
    "        \"user_profile_url\": str,\n",
    "        \"follower_count\": str,\n",
    "        \"following_count\": str,\n",
    "        \"account_creation_date\": str,\n",
    "        \"account_language\": str,\n",
    "        \"tweet_text\": str,\n",
    "        \"tweet_time\": str,\n",
    "        \"tweet_client_name\": str,\n",
    "        \"in_reply_to_tweetid\": str,\n",
    "        \"in_reply_to_userid\": str,\n",
    "        \"quoted_tweet_tweetid\": str,\n",
    "        \"is_retweet\": bool,\n",
    "        \"retweet_userid\": str,\n",
    "        \"retweet_tweetid\": str,\n",
    "        \"latitude\": str,\n",
    "        \"longitude\": str,\n",
    "        \"quote_count\": np.float64,\n",
    "        \"reply_count\": np.float64,\n",
    "        \"like_count\": np.float64,\n",
    "        \"retweet_count\": np.float64,\n",
    "        \"hashtags\": str,\n",
    "        \"urls\": str,\n",
    "        \"user_mentions\": str,\n",
    "        \"poll_choices\": str,\n",
    "    })\n",
    "    \n",
    "    df['tweet_record_time'] = pd.to_datetime(df['tweet_time'], format ='%Y-%m-%d %H:%M')\n",
    "\n",
    "\n",
    "    time = []\n",
    "\n",
    "    for i in df['tweet_record_time']:\n",
    "        time.append(i.time())\n",
    "\n",
    "    df['time'] = time\n",
    "\n",
    "\n",
    "    hour =[]\n",
    "    time_float = []\n",
    "\n",
    "    for i in df['time']:\n",
    "        hour.append(i.hour)\n",
    "        time_float.append(i.hour+i.minute/60.0)\n",
    "\n",
    "    df['hour'] = hour\n",
    "    df['time_float'] = time_float\n",
    "    return df"
   ]
  },
  {
   "cell_type": "code",
   "execution_count": 3,
   "metadata": {},
   "outputs": [],
   "source": [
    "def getPeakAttention(df, country):\n",
    "    df_hr = df.crosstab(df.userid, df.hour)\n",
    "\n",
    "#     df_hr = DataFrame(df_hr)\n",
    "\n",
    "    df_hr.reset_index(inplace=True)\n",
    "\n",
    "    df_hr.columns = ['hour', 'post']\n",
    "    df_hr['country'] = country\n",
    "    df_hr.to_csv(\"Hour_float.csv\", mode = 'a', header = False)\n",
    "#     sum = df_hr.post.sum()\n",
    "#     max = df_hr.post.max()\n",
    "#     print(\"Sum: \", sum , \"\\nMax: \", max, \"\\n\")\n",
    "#     return max/sum"
   ]
  },
  {
   "cell_type": "code",
   "execution_count": 4,
   "metadata": {},
   "outputs": [],
   "source": [
    "filename = './data/unhashed/iranian_tweets_csv_unhashed.csv'\n",
    "iranian = processHour(filename)"
   ]
  },
  {
   "cell_type": "code",
   "execution_count": 6,
   "metadata": {},
   "outputs": [],
   "source": [
    " iranian_hr = pd.crosstab(iranian.userid, iranian.hour)"
   ]
  },
  {
   "cell_type": "code",
   "execution_count": 9,
   "metadata": {},
   "outputs": [],
   "source": [
    " iranian_hr = iranian_hr.reset_index(level=0, inplace=True)"
   ]
  },
  {
   "cell_type": "code",
   "execution_count": 15,
   "metadata": {},
   "outputs": [
    {
     "data": {
      "text/html": [
       "<div>\n",
       "<style scoped>\n",
       "    .dataframe tbody tr th:only-of-type {\n",
       "        vertical-align: middle;\n",
       "    }\n",
       "\n",
       "    .dataframe tbody tr th {\n",
       "        vertical-align: top;\n",
       "    }\n",
       "\n",
       "    .dataframe thead th {\n",
       "        text-align: right;\n",
       "    }\n",
       "</style>\n",
       "<table border=\"1\" class=\"dataframe\">\n",
       "  <thead>\n",
       "    <tr style=\"text-align: right;\">\n",
       "      <th>hour</th>\n",
       "      <th>userid</th>\n",
       "      <th>0</th>\n",
       "      <th>1</th>\n",
       "      <th>2</th>\n",
       "      <th>3</th>\n",
       "      <th>4</th>\n",
       "      <th>5</th>\n",
       "      <th>6</th>\n",
       "      <th>7</th>\n",
       "      <th>8</th>\n",
       "      <th>...</th>\n",
       "      <th>15</th>\n",
       "      <th>16</th>\n",
       "      <th>17</th>\n",
       "      <th>18</th>\n",
       "      <th>19</th>\n",
       "      <th>20</th>\n",
       "      <th>21</th>\n",
       "      <th>22</th>\n",
       "      <th>23</th>\n",
       "      <th>peak_attention</th>\n",
       "    </tr>\n",
       "  </thead>\n",
       "  <tbody>\n",
       "    <tr>\n",
       "      <th>0</th>\n",
       "      <td>1000361556155228160</td>\n",
       "      <td>0</td>\n",
       "      <td>0</td>\n",
       "      <td>0</td>\n",
       "      <td>0</td>\n",
       "      <td>0</td>\n",
       "      <td>0</td>\n",
       "      <td>38</td>\n",
       "      <td>0</td>\n",
       "      <td>0</td>\n",
       "      <td>...</td>\n",
       "      <td>0</td>\n",
       "      <td>0</td>\n",
       "      <td>0</td>\n",
       "      <td>0</td>\n",
       "      <td>0</td>\n",
       "      <td>0</td>\n",
       "      <td>0</td>\n",
       "      <td>0</td>\n",
       "      <td>0</td>\n",
       "      <td>0.655172</td>\n",
       "    </tr>\n",
       "    <tr>\n",
       "      <th>1</th>\n",
       "      <td>1000401169313824768</td>\n",
       "      <td>0</td>\n",
       "      <td>0</td>\n",
       "      <td>0</td>\n",
       "      <td>0</td>\n",
       "      <td>0</td>\n",
       "      <td>0</td>\n",
       "      <td>2</td>\n",
       "      <td>6</td>\n",
       "      <td>0</td>\n",
       "      <td>...</td>\n",
       "      <td>0</td>\n",
       "      <td>0</td>\n",
       "      <td>0</td>\n",
       "      <td>0</td>\n",
       "      <td>0</td>\n",
       "      <td>0</td>\n",
       "      <td>0</td>\n",
       "      <td>0</td>\n",
       "      <td>0</td>\n",
       "      <td>0.558140</td>\n",
       "    </tr>\n",
       "    <tr>\n",
       "      <th>2</th>\n",
       "      <td>1000652498011639808</td>\n",
       "      <td>0</td>\n",
       "      <td>0</td>\n",
       "      <td>0</td>\n",
       "      <td>0</td>\n",
       "      <td>1</td>\n",
       "      <td>4</td>\n",
       "      <td>2</td>\n",
       "      <td>2</td>\n",
       "      <td>3</td>\n",
       "      <td>...</td>\n",
       "      <td>0</td>\n",
       "      <td>0</td>\n",
       "      <td>0</td>\n",
       "      <td>0</td>\n",
       "      <td>0</td>\n",
       "      <td>0</td>\n",
       "      <td>0</td>\n",
       "      <td>0</td>\n",
       "      <td>0</td>\n",
       "      <td>0.428571</td>\n",
       "    </tr>\n",
       "    <tr>\n",
       "      <th>3</th>\n",
       "      <td>1000705337924685824</td>\n",
       "      <td>0</td>\n",
       "      <td>1</td>\n",
       "      <td>0</td>\n",
       "      <td>1</td>\n",
       "      <td>15</td>\n",
       "      <td>29</td>\n",
       "      <td>40</td>\n",
       "      <td>35</td>\n",
       "      <td>42</td>\n",
       "      <td>...</td>\n",
       "      <td>11</td>\n",
       "      <td>13</td>\n",
       "      <td>16</td>\n",
       "      <td>11</td>\n",
       "      <td>16</td>\n",
       "      <td>12</td>\n",
       "      <td>1</td>\n",
       "      <td>4</td>\n",
       "      <td>3</td>\n",
       "      <td>0.120690</td>\n",
       "    </tr>\n",
       "    <tr>\n",
       "      <th>4</th>\n",
       "      <td>1000730947506114562</td>\n",
       "      <td>0</td>\n",
       "      <td>0</td>\n",
       "      <td>0</td>\n",
       "      <td>0</td>\n",
       "      <td>0</td>\n",
       "      <td>0</td>\n",
       "      <td>0</td>\n",
       "      <td>0</td>\n",
       "      <td>0</td>\n",
       "      <td>...</td>\n",
       "      <td>0</td>\n",
       "      <td>0</td>\n",
       "      <td>0</td>\n",
       "      <td>0</td>\n",
       "      <td>0</td>\n",
       "      <td>0</td>\n",
       "      <td>0</td>\n",
       "      <td>0</td>\n",
       "      <td>0</td>\n",
       "      <td>0.750000</td>\n",
       "    </tr>\n",
       "  </tbody>\n",
       "</table>\n",
       "<p>5 rows × 26 columns</p>\n",
       "</div>"
      ],
      "text/plain": [
       "hour               userid  0  1  2  3   4   5   6   7   8  ...  15  16  17  \\\n",
       "0     1000361556155228160  0  0  0  0   0   0  38   0   0  ...   0   0   0   \n",
       "1     1000401169313824768  0  0  0  0   0   0   2   6   0  ...   0   0   0   \n",
       "2     1000652498011639808  0  0  0  0   1   4   2   2   3  ...   0   0   0   \n",
       "3     1000705337924685824  0  1  0  1  15  29  40  35  42  ...  11  13  16   \n",
       "4     1000730947506114562  0  0  0  0   0   0   0   0   0  ...   0   0   0   \n",
       "\n",
       "hour  18  19  20  21  22  23  peak_attention  \n",
       "0      0   0   0   0   0   0        0.655172  \n",
       "1      0   0   0   0   0   0        0.558140  \n",
       "2      0   0   0   0   0   0        0.428571  \n",
       "3     11  16  12   1   4   3        0.120690  \n",
       "4      0   0   0   0   0   0        0.750000  \n",
       "\n",
       "[5 rows x 26 columns]"
      ]
     },
     "execution_count": 15,
     "metadata": {},
     "output_type": "execute_result"
    }
   ],
   "source": [
    " iranian_hr.head()"
   ]
  },
  {
   "cell_type": "code",
   "execution_count": 12,
   "metadata": {},
   "outputs": [],
   "source": [
    "#  iranian_hr.columns = []"
   ]
  },
  {
   "cell_type": "code",
   "execution_count": 14,
   "metadata": {},
   "outputs": [],
   "source": [
    "iranian_hr['peak_attention'] =  iranian_hr.max(axis=1)/ iranian_hr.sum(axis=1)"
   ]
  },
  {
   "cell_type": "code",
   "execution_count": 17,
   "metadata": {},
   "outputs": [],
   "source": [
    "iranian_hr['type'] = 'IO'"
   ]
  },
  {
   "cell_type": "code",
   "execution_count": 18,
   "metadata": {},
   "outputs": [],
   "source": [
    "iranian_hr['sum'] = iranian_hr.sum(axis=1)"
   ]
  },
  {
   "cell_type": "code",
   "execution_count": null,
   "metadata": {},
   "outputs": [],
   "source": [
    "filename = './data/iran_baseline_tweets.csv'\n",
    "iranian = processHour(filename)"
   ]
  },
  {
   "cell_type": "code",
   "execution_count": 24,
   "metadata": {},
   "outputs": [],
   "source": [
    "from pylab import rcParams\n",
    "rcParams['figure.figsize'] = 12,8"
   ]
  },
  {
   "cell_type": "code",
   "execution_count": 25,
   "metadata": {},
   "outputs": [],
   "source": [
    "sns.set()"
   ]
  },
  {
   "cell_type": "code",
   "execution_count": 26,
   "metadata": {},
   "outputs": [
    {
     "data": {
      "text/plain": [
       "Text(0, 0.5, 'Percentage of tweets from peak tweeting time')"
      ]
     },
     "execution_count": 26,
     "metadata": {},
     "output_type": "execute_result"
    },
    {
     "data": {
      "image/png": "[encoded data removed]",
      "text/plain": [
       "<Figure size 864x576 with 1 Axes>"
      ]
     },
     "metadata": {},
     "output_type": "display_data"
    }
   ],
   "source": [
    "ax = sns.boxplot(x='type', y='peak_attention', data = iranian_hr, notch=True, palette=\"Set2\")\n",
    "\n",
    "# ax = sns.swarmplot(x='country', y='percentage', data = retweet_percentage, color=\"grey\")\n",
    "ax = sns.stripplot(x='type', y='peak_attention', data = iranian_hr, color=\"orange\", jitter=0.2, size=2.5)\n",
    "plt.title(\"Boxplot of User Peak Attention between Normal Users and Information Operation in Iran\", loc=\"center\")\n",
    "plt.ylabel(\"Percentage of tweets from peak tweeting time\")\n"
   ]
  },
  {
   "cell_type": "code",
   "execution_count": null,
   "metadata": {},
   "outputs": [],
   "source": []
  }
 ],
 "metadata": {
  "kernelspec": {
   "display_name": "Python 3",
   "language": "python",
   "name": "python3"
  },
  "language_info": {
   "codemirror_mode": {
    "name": "ipython",
    "version": 3
   },
   "file_extension": ".py",
   "mimetype": "text/x-python",
   "name": "python",
   "nbconvert_exporter": "python",
   "pygments_lexer": "ipython3",
   "version": "3.7.2"
  }
 },
 "nbformat": 4,
 "nbformat_minor": 2
}
