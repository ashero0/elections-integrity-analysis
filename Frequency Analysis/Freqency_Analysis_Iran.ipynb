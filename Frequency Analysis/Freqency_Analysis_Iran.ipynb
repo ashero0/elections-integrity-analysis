{
 "cells": [
  {
   "cell_type": "code",
   "execution_count": 1,
   "metadata": {},
   "outputs": [],
   "source": [
    "import pandas as pd\n",
    "import numpy as np\n",
    "import os\n",
    "from pandas import Series, DataFrame, Panel\n",
    "from datetime import datetime"
   ]
  },
  {
   "cell_type": "code",
   "execution_count": 2,
   "metadata": {},
   "outputs": [],
   "source": [
    "import plotly.plotly as py\n",
    "import cufflinks as cf\n"
   ]
  },
  {
   "cell_type": "code",
   "execution_count": 3,
   "metadata": {},
   "outputs": [],
   "source": [
    "\n",
    "from matplotlib import pyplot\n"
   ]
  },
  {
   "cell_type": "code",
   "execution_count": 4,
   "metadata": {},
   "outputs": [],
   "source": [
    "filename = './data/iranian_tweets_csv_hashed.csv'"
   ]
  },
  {
   "cell_type": "code",
   "execution_count": 5,
   "metadata": {},
   "outputs": [],
   "source": [
    "iran= pd.read_csv(filename, dtype = {\n",
    "    \"tweetid\": str,\n",
    "    \"userid\": str,\n",
    "    \"user_display_name\": str,\n",
    "    \"user_screen_name\": str,\n",
    "    \"user_reported_location\": str,\n",
    "    \"user_profile_description\": str,\n",
    "    \"user_profile_url\": str,\n",
    "    \"follower_count\": str,\n",
    "    \"following_count\": str,\n",
    "    \"account_creation_date\": str,\n",
    "    \"account_language\": str,\n",
    "    \"tweet_text\": str,\n",
    "    \"tweet_time\": str,\n",
    "    \"tweet_client_name\": str,\n",
    "    \"in_reply_to_tweetid\": str,\n",
    "    \"in_reply_to_userid\": str,\n",
    "    \"quoted_tweet_tweetid\": str,\n",
    "    \"is_retweet\": bool,\n",
    "    \"retweet_userid\": str,\n",
    "    \"retweet_tweetid\": str,\n",
    "    \"latitude\": str,\n",
    "    \"longitude\": str,\n",
    "    \"quote_count\": str,\n",
    "    \"reply_count\": str,\n",
    "    \"like_count\": str,\n",
    "    \"retweet_count\": str,\n",
    "    \"hashtags\": str,\n",
    "    \"urls\": str,\n",
    "    \"user_mentions\": str,\n",
    "    \"poll_choices\": str,\n",
    "})"
   ]
  },
  {
   "cell_type": "code",
   "execution_count": 6,
   "metadata": {},
   "outputs": [
    {
     "name": "stdout",
     "output_type": "stream",
     "text": [
      "1122936\n"
     ]
    }
   ],
   "source": [
    "print(len(iran))"
   ]
  },
  {
   "cell_type": "code",
   "execution_count": 11,
   "metadata": {},
   "outputs": [
    {
     "data": {
      "text/plain": [
       "Index(['tweetid', 'userid', 'user_display_name', 'user_screen_name',\n",
       "       'user_reported_location', 'user_profile_description',\n",
       "       'user_profile_url', 'follower_count', 'following_count',\n",
       "       'account_creation_date', 'account_language', 'tweet_text', 'tweet_time',\n",
       "       'tweet_client_name', 'in_reply_to_tweetid', 'in_reply_to_userid',\n",
       "       'quoted_tweet_tweetid', 'is_retweet', 'retweet_userid',\n",
       "       'retweet_tweetid', 'latitude', 'longitude', 'quote_count',\n",
       "       'reply_count', 'like_count', 'retweet_count', 'hashtags', 'urls',\n",
       "       'user_mentions', 'poll_choices'],\n",
       "      dtype='object')"
      ]
     },
     "execution_count": 11,
     "metadata": {},
     "output_type": "execute_result"
    }
   ],
   "source": [
    "iran.columns\n"
   ]
  },
  {
   "cell_type": "markdown",
   "metadata": {},
   "source": [
    "## Parse date time data of tweets"
   ]
  },
  {
   "cell_type": "code",
   "execution_count": 7,
   "metadata": {},
   "outputs": [],
   "source": [
    "iran['tweet_record_time'] = pd.to_datetime(iran['tweet_time'], format ='%Y-%m-%d %H:%M')"
   ]
  },
  {
   "cell_type": "code",
   "execution_count": 8,
   "metadata": {},
   "outputs": [],
   "source": [
    "time = []"
   ]
  },
  {
   "cell_type": "markdown",
   "metadata": {},
   "source": [
    "##### Get hour, minute, and second from date time"
   ]
  },
  {
   "cell_type": "code",
   "execution_count": 9,
   "metadata": {},
   "outputs": [],
   "source": [
    "for i in iran['tweet_record_time']:\n",
    "    time.append(i.time())"
   ]
  },
  {
   "cell_type": "code",
   "execution_count": 10,
   "metadata": {},
   "outputs": [],
   "source": [
    "iran['time'] = time"
   ]
  },
  {
   "cell_type": "markdown",
   "metadata": {},
   "source": [
    "##### Get hour from time"
   ]
  },
  {
   "cell_type": "code",
   "execution_count": 11,
   "metadata": {},
   "outputs": [],
   "source": [
    "hour =[]"
   ]
  },
  {
   "cell_type": "code",
   "execution_count": 12,
   "metadata": {},
   "outputs": [],
   "source": [
    "for i in iran['time']:\n",
    "    hour.append(i.hour)\n",
    "    #print(i.time())"
   ]
  },
  {
   "cell_type": "code",
   "execution_count": 14,
   "metadata": {},
   "outputs": [],
   "source": [
    "iran['hour'] = hour"
   ]
  },
  {
   "cell_type": "markdown",
   "metadata": {},
   "source": [
    "## Generate histogram of the frequency of tweet by time in a day"
   ]
  },
  {
   "cell_type": "code",
   "execution_count": null,
   "metadata": {},
   "outputs": [],
   "source": [
    "iran['hour'].hist(bins = 30)"
   ]
  }
 ],
 "metadata": {
  "kernelspec": {
   "display_name": "Python 3",
   "language": "python",
   "name": "python3"
  },
  "language_info": {
   "codemirror_mode": {
    "name": "ipython",
    "version": 3
   },
   "file_extension": ".py",
   "mimetype": "text/x-python",
   "name": "python",
   "nbconvert_exporter": "python",
   "pygments_lexer": "ipython3",
   "version": "3.7.2"
  }
 },
 "nbformat": 4,
 "nbformat_minor": 2
}
