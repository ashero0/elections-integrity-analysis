{
 "cells": [
  {
   "cell_type": "code",
   "execution_count": 2,
   "metadata": {},
   "outputs": [],
   "source": [
    "import pandas as pd\n",
    "import numpy as np\n",
    "import os\n",
    "from pandas import Series, DataFrame, Panel\n",
    "from datetime import datetime"
   ]
  },
  {
   "cell_type": "code",
   "execution_count": 3,
   "metadata": {},
   "outputs": [],
   "source": [
    "import plotly.plotly as py\n",
    "import cufflinks as cf"
   ]
  },
  {
   "cell_type": "code",
   "execution_count": 4,
   "metadata": {},
   "outputs": [],
   "source": [
    "from matplotlib import pyplot"
   ]
  },
  {
   "cell_type": "code",
   "execution_count": 5,
   "metadata": {},
   "outputs": [],
   "source": [
    "filename = './data/unhashed/russia_201901_1_tweets_csv_unhashed.csv'"
   ]
  },
  {
   "cell_type": "code",
   "execution_count": 6,
   "metadata": {},
   "outputs": [],
   "source": [
    "russia = pd.read_csv(filename, dtype = {\n",
    "    \"tweetid\": str,\n",
    "    \"userid\": str,\n",
    "    \"user_display_name\": str,\n",
    "    \"user_screen_name\": str,\n",
    "    \"user_reported_location\": str,\n",
    "    \"user_profile_description\": str,\n",
    "    \"user_profile_url\": str,\n",
    "    \"follower_count\": str,\n",
    "    \"following_count\": str,\n",
    "    \"account_creation_date\": str,\n",
    "    \"account_language\": str,\n",
    "    \"tweet_text\": str,\n",
    "    \"tweet_time\": str,\n",
    "    \"tweet_client_name\": str,\n",
    "    \"in_reply_to_tweetid\": str,\n",
    "    \"in_reply_to_userid\": str,\n",
    "    \"quoted_tweet_tweetid\": str,\n",
    "    \"is_retweet\": bool,\n",
    "    \"retweet_userid\": str,\n",
    "    \"retweet_tweetid\": str,\n",
    "    \"latitude\": str,\n",
    "    \"longitude\": str,\n",
    "    \"quote_count\": str,\n",
    "    \"reply_count\": str,\n",
    "    \"like_count\": str,\n",
    "    \"retweet_count\": str,\n",
    "    \"hashtags\": str,\n",
    "    \"urls\": str,\n",
    "    \"user_mentions\": str,\n",
    "    \"poll_choices\": str,\n",
    "})"
   ]
  },
  {
   "cell_type": "code",
   "execution_count": 7,
   "metadata": {},
   "outputs": [
    {
     "name": "stdout",
     "output_type": "stream",
     "text": [
      "765246\n"
     ]
    }
   ],
   "source": [
    "print(len(russia))"
   ]
  },
  {
   "cell_type": "code",
   "execution_count": 8,
   "metadata": {},
   "outputs": [
    {
     "data": {
      "text/plain": [
       "Index(['tweetid', 'userid', 'user_display_name', 'user_screen_name',\n",
       "       'user_reported_location', 'user_profile_description',\n",
       "       'user_profile_url', 'follower_count', 'following_count',\n",
       "       'account_creation_date', 'account_language', 'tweet_text', 'tweet_time',\n",
       "       'tweet_client_name', 'in_reply_to_tweetid', 'in_reply_to_userid',\n",
       "       'quoted_tweet_tweetid', 'is_retweet', 'retweet_userid',\n",
       "       'retweet_tweetid', 'latitude', 'longitude', 'quote_count',\n",
       "       'reply_count', 'like_count', 'retweet_count', 'hashtags', 'urls',\n",
       "       'user_mentions', 'poll_choices'],\n",
       "      dtype='object')"
      ]
     },
     "execution_count": 8,
     "metadata": {},
     "output_type": "execute_result"
    }
   ],
   "source": [
    "russia.columns\n"
   ]
  },
  {
   "cell_type": "code",
   "execution_count": 9,
   "metadata": {},
   "outputs": [],
   "source": [
    "#russia['tweet_time']"
   ]
  },
  {
   "cell_type": "code",
   "execution_count": 9,
   "metadata": {},
   "outputs": [],
   "source": [
    "russia['tweet_record_time'] = pd.to_datetime(russia['tweet_time'], format ='%Y-%m-%d %H:%M')"
   ]
  },
  {
   "cell_type": "code",
   "execution_count": null,
   "metadata": {},
   "outputs": [],
   "source": [
    "#russia['tweet_record_time']"
   ]
  },
  {
   "cell_type": "code",
   "execution_count": 10,
   "metadata": {},
   "outputs": [],
   "source": [
    "time = []"
   ]
  },
  {
   "cell_type": "code",
   "execution_count": 11,
   "metadata": {},
   "outputs": [],
   "source": [
    "for i in russia['tweet_record_time']:\n",
    "    time.append(i.time())\n",
    "    #print(i.time())"
   ]
  },
  {
   "cell_type": "code",
   "execution_count": 12,
   "metadata": {},
   "outputs": [],
   "source": [
    "russia['time'] = time"
   ]
  },
  {
   "cell_type": "code",
   "execution_count": 13,
   "metadata": {},
   "outputs": [],
   "source": [
    "hour =[]"
   ]
  },
  {
   "cell_type": "code",
   "execution_count": 14,
   "metadata": {},
   "outputs": [],
   "source": [
    "for i in russia['time']:\n",
    "    hour.append(i.hour)\n",
    "    #print(i.time())"
   ]
  },
  {
   "cell_type": "code",
   "execution_count": 15,
   "metadata": {},
   "outputs": [],
   "source": [
    "russia['hour'] = hour"
   ]
  },
  {
   "cell_type": "code",
   "execution_count": 18,
   "metadata": {},
   "outputs": [],
   "source": [
    "#russia.longtitude"
   ]
  },
  {
   "cell_type": "code",
   "execution_count": 32,
   "metadata": {},
   "outputs": [],
   "source": [
    "#cf.set_config_file(offline=False, world_readable=True, theme='ggplot')\n",
    "\n",
    "#russia.iplot(x='time',kind='scatter') "
   ]
  },
  {
   "cell_type": "code",
   "execution_count": 16,
   "metadata": {},
   "outputs": [
    {
     "data": {
      "text/plain": [
       "<matplotlib.axes._subplots.AxesSubplot at 0x125cca10>"
      ]
     },
     "execution_count": 16,
     "metadata": {},
     "output_type": "execute_result"
    },
    {
     "data": {
      "image/png": "[encoded data removed]",
      "text/plain": [
       "<Figure size 432x288 with 1 Axes>"
      ]
     },
     "metadata": {
      "needs_background": "light"
     },
     "output_type": "display_data"
    }
   ],
   "source": [
    "russia['hour'].hist(bins = 30)"
   ]
  },
  {
   "cell_type": "code",
   "execution_count": 17,
   "metadata": {},
   "outputs": [],
   "source": [
    "import numpy as np; np.random.seed(10)\n",
    "import seaborn as sns;"
   ]
  },
  {
   "cell_type": "code",
   "execution_count": 31,
   "metadata": {},
   "outputs": [],
   "source": [
    "from scipy import stats\n",
    "import matplotlib as mpl\n",
    "import matplotlib.pyplot as plt"
   ]
  },
  {
   "cell_type": "code",
   "execution_count": 18,
   "metadata": {},
   "outputs": [],
   "source": [
    "sns.set()"
   ]
  },
  {
   "cell_type": "code",
   "execution_count": 19,
   "metadata": {},
   "outputs": [
    {
     "data": {
      "text/plain": [
       "<matplotlib.axes._subplots.AxesSubplot at 0x161ca4b0>"
      ]
     },
     "execution_count": 19,
     "metadata": {},
     "output_type": "execute_result"
    },
    {
     "data": {
      "image/png": "[encoded data removed]",
      "text/plain": [
       "<Figure size 432x288 with 1 Axes>"
      ]
     },
     "metadata": {},
     "output_type": "display_data"
    }
   ],
   "source": [
    "sns.kdeplot(russia['hour'], shade=True)"
   ]
  },
  {
   "cell_type": "code",
   "execution_count": null,
   "metadata": {},
   "outputs": [],
   "source": []
  },
  {
   "cell_type": "code",
   "execution_count": 31,
   "metadata": {},
   "outputs": [],
   "source": [
    "#russia['hour'].plot()\n",
    "#pyplot.show()"
   ]
  },
  {
   "cell_type": "code",
   "execution_count": 20,
   "metadata": {},
   "outputs": [],
   "source": [
    "def processHour(filename = None):\n",
    "    df = pd.read_csv(filename, dtype = {\n",
    "        \"tweetid\": str,\n",
    "        \"userid\": str,\n",
    "        \"user_display_name\": str,\n",
    "        \"user_screen_name\": str,\n",
    "        \"user_reported_location\": str,\n",
    "        \"user_profile_description\": str,\n",
    "        \"user_profile_url\": str,\n",
    "        \"follower_count\": str,\n",
    "        \"following_count\": str,\n",
    "        \"account_creation_date\": str,\n",
    "        \"account_language\": str,\n",
    "        \"tweet_text\": str,\n",
    "        \"tweet_time\": str,\n",
    "        \"tweet_client_name\": str,\n",
    "        \"in_reply_to_tweetid\": str,\n",
    "        \"in_reply_to_userid\": str,\n",
    "        \"quoted_tweet_tweetid\": str,\n",
    "        \"is_retweet\": bool,\n",
    "        \"retweet_userid\": str,\n",
    "        \"retweet_tweetid\": str,\n",
    "        \"latitude\": str,\n",
    "        \"longitude\": str,\n",
    "        \"quote_count\": str,\n",
    "        \"reply_count\": str,\n",
    "        \"like_count\": str,\n",
    "        \"retweet_count\": str,\n",
    "        \"hashtags\": str,\n",
    "        \"urls\": str,\n",
    "        \"user_mentions\": str,\n",
    "        \"poll_choices\": str,\n",
    "    })\n",
    "    \n",
    "    df['tweet_record_time'] = pd.to_datetime(df['tweet_time'], format ='%Y-%m-%d %H:%M')\n",
    "\n",
    "\n",
    "    time = []\n",
    "\n",
    "    for i in df['tweet_record_time']:\n",
    "        time.append(i.time())\n",
    "\n",
    "    df['time'] = time\n",
    "\n",
    "\n",
    "    hour =[]\n",
    "\n",
    "\n",
    "    for i in df['time']:\n",
    "        hour.append(i.hour)\n",
    "     \n",
    "\n",
    "    df['hour'] = hour\n",
    "\n",
    "    return df"
   ]
  },
  {
   "cell_type": "code",
   "execution_count": 21,
   "metadata": {},
   "outputs": [],
   "source": [
    "filename = './data/unhashed/iranian_tweets_csv_unhashed.csv'\n",
    "iranian = processHour(filename)"
   ]
  },
  {
   "cell_type": "code",
   "execution_count": 23,
   "metadata": {},
   "outputs": [],
   "source": [
    "# filename = './data/unhashed/venezuela_201901_2_tweets_csv_unhashed.csv'\n",
    "# venezuala_two = processHour(filename)"
   ]
  },
  {
   "cell_type": "code",
   "execution_count": 24,
   "metadata": {},
   "outputs": [],
   "source": [
    "filename = './data/unhashed/bangladesh_201901_1_tweets_csv_unhashed.csv'\n",
    "bangladesh = processHour(filename)"
   ]
  },
  {
   "cell_type": "code",
   "execution_count": 36,
   "metadata": {},
   "outputs": [],
   "source": [
    "from pylab import rcParams\n",
    "rcParams['figure.figsize'] = 12,8"
   ]
  },
  {
   "cell_type": "code",
   "execution_count": 39,
   "metadata": {},
   "outputs": [
    {
     "data": {
      "text/plain": [
       "array([ 9, 22, 19,  1,  6, 17,  5, 16, 20,  7,  2,  4, 14, 21, 18, 23,  3,\n",
       "       15, 13,  8,  0, 10, 12, 11], dtype=int64)"
      ]
     },
     "execution_count": 39,
     "metadata": {},
     "output_type": "execute_result"
    }
   ],
   "source": [
    "russia['hour'].unique()"
   ]
  },
  {
   "cell_type": "code",
   "execution_count": 44,
   "metadata": {},
   "outputs": [
    {
     "data": {
      "image/png": "[encoded data removed]",
      "text/plain": [
       "<Figure size 864x576 with 1 Axes>"
      ]
     },
     "metadata": {},
     "output_type": "display_data"
    }
   ],
   "source": [
    "sns.set()\n",
    "    \n",
    "    \n",
    "g = sns.kdeplot(russia['hour'], shade=True)\n",
    "g = sns.kdeplot(iranian['hour'], shade=True)\n",
    "g = sns.kdeplot(bangladesh['hour'], shade=True)\n",
    "\n",
    "# legend = g._legend\n",
    "# legend.set_title(\"Frequency of post by time in day\")\n",
    "# for t, l in zip(legend.texts,('russia', 'iranian', 'bangladesh')):\n",
    "#     t.set_text(l)\n",
    "\n",
    "\n",
    "# new_title = 'Frequency of post by time in day'\n",
    "# leg.set_title(new_title)\n",
    "# new_labels = ['russia', 'iranian', 'bangladesh']\n",
    "# for t, l in zip(leg.texts, new_labels): t.set_text(l)\n",
    "\n",
    "axes = plt.gca()\n",
    "axes.set_xlim([0,24])\n",
    "\n",
    "plt.xlabel('hour in day')\n",
    "plt.ylabel('frequency of posts')\n",
    "plt.xticks(np.arange(0,25, step = 1))\n",
    "plt.title('Frequency of post by time in day', fontsize=20)\n",
    "plt.legend(title='country', loc='upper right', labels=['russia', 'iranian', 'bangladesh'])\n",
    "plt.show(g)"
   ]
  },
  {
   "cell_type": "code",
   "execution_count": 45,
   "metadata": {},
   "outputs": [],
   "source": [
    "russia['country'] = 'russia'\n",
    "iranian['country'] = 'iranian'\n",
    "bangladesh['country'] = 'bangladesh'"
   ]
  },
  {
   "cell_type": "code",
   "execution_count": 53,
   "metadata": {},
   "outputs": [
    {
     "data": {
      "text/html": [
       "<div>\n",
       "<style scoped>\n",
       "    .dataframe tbody tr th:only-of-type {\n",
       "        vertical-align: middle;\n",
       "    }\n",
       "\n",
       "    .dataframe tbody tr th {\n",
       "        vertical-align: top;\n",
       "    }\n",
       "\n",
       "    .dataframe thead th {\n",
       "        text-align: right;\n",
       "    }\n",
       "</style>\n",
       "<table border=\"1\" class=\"dataframe\">\n",
       "  <thead>\n",
       "    <tr style=\"text-align: right;\">\n",
       "      <th></th>\n",
       "      <th>tweetid</th>\n",
       "      <th>userid</th>\n",
       "      <th>user_display_name</th>\n",
       "      <th>user_screen_name</th>\n",
       "      <th>user_reported_location</th>\n",
       "      <th>user_profile_description</th>\n",
       "      <th>user_profile_url</th>\n",
       "      <th>follower_count</th>\n",
       "      <th>following_count</th>\n",
       "      <th>account_creation_date</th>\n",
       "      <th>...</th>\n",
       "      <th>like_count</th>\n",
       "      <th>retweet_count</th>\n",
       "      <th>hashtags</th>\n",
       "      <th>urls</th>\n",
       "      <th>user_mentions</th>\n",
       "      <th>poll_choices</th>\n",
       "      <th>tweet_record_time</th>\n",
       "      <th>time</th>\n",
       "      <th>hour</th>\n",
       "      <th>country</th>\n",
       "    </tr>\n",
       "  </thead>\n",
       "  <tbody>\n",
       "    <tr>\n",
       "      <th>0</th>\n",
       "      <td>918741290078138368</td>\n",
       "      <td>867065768973713408</td>\n",
       "      <td>Contra el Trumpismo</td>\n",
       "      <td>ContraTrumpismo</td>\n",
       "      <td>Caracas, Venezuela</td>\n",
       "      <td>Todo el mundo es lleno de los Crímenes de EEUU...</td>\n",
       "      <td>NaN</td>\n",
       "      <td>1962</td>\n",
       "      <td>2054</td>\n",
       "      <td>2017-05-23</td>\n",
       "      <td>...</td>\n",
       "      <td>0.0</td>\n",
       "      <td>0.0</td>\n",
       "      <td>[EEUU]</td>\n",
       "      <td>[]</td>\n",
       "      <td>[]</td>\n",
       "      <td>NaN</td>\n",
       "      <td>2017-10-13 07:32:00</td>\n",
       "      <td>07:32:00</td>\n",
       "      <td>7</td>\n",
       "      <td>iranian</td>\n",
       "    </tr>\n",
       "    <tr>\n",
       "      <th>1</th>\n",
       "      <td>954286721633529856</td>\n",
       "      <td>867065768973713408</td>\n",
       "      <td>Contra el Trumpismo</td>\n",
       "      <td>ContraTrumpismo</td>\n",
       "      <td>Caracas, Venezuela</td>\n",
       "      <td>Todo el mundo es lleno de los Crímenes de EEUU...</td>\n",
       "      <td>NaN</td>\n",
       "      <td>1962</td>\n",
       "      <td>2054</td>\n",
       "      <td>2017-05-23</td>\n",
       "      <td>...</td>\n",
       "      <td>4.0</td>\n",
       "      <td>3.0</td>\n",
       "      <td>[Corea_del_Norte]</td>\n",
       "      <td>[]</td>\n",
       "      <td>[]</td>\n",
       "      <td>NaN</td>\n",
       "      <td>2018-01-19 09:37:00</td>\n",
       "      <td>09:37:00</td>\n",
       "      <td>9</td>\n",
       "      <td>iranian</td>\n",
       "    </tr>\n",
       "    <tr>\n",
       "      <th>2</th>\n",
       "      <td>913429163025010688</td>\n",
       "      <td>867065768973713408</td>\n",
       "      <td>Contra el Trumpismo</td>\n",
       "      <td>ContraTrumpismo</td>\n",
       "      <td>Caracas, Venezuela</td>\n",
       "      <td>Todo el mundo es lleno de los Crímenes de EEUU...</td>\n",
       "      <td>NaN</td>\n",
       "      <td>1962</td>\n",
       "      <td>2054</td>\n",
       "      <td>2017-05-23</td>\n",
       "      <td>...</td>\n",
       "      <td>0.0</td>\n",
       "      <td>0.0</td>\n",
       "      <td>[Seúl]</td>\n",
       "      <td>[]</td>\n",
       "      <td>[867065768973713408]</td>\n",
       "      <td>NaN</td>\n",
       "      <td>2017-09-28 15:44:00</td>\n",
       "      <td>15:44:00</td>\n",
       "      <td>15</td>\n",
       "      <td>iranian</td>\n",
       "    </tr>\n",
       "    <tr>\n",
       "      <th>3</th>\n",
       "      <td>406699069038292993</td>\n",
       "      <td>1443219385</td>\n",
       "      <td>Whatsupic</td>\n",
       "      <td>Whatsupic</td>\n",
       "      <td>United Kingdom</td>\n",
       "      <td>Unbiased News Reported by Users along our Own ...</td>\n",
       "      <td>http://t.co/ziSrivGi68</td>\n",
       "      <td>2364</td>\n",
       "      <td>1160</td>\n",
       "      <td>2013-05-20</td>\n",
       "      <td>...</td>\n",
       "      <td>0.0</td>\n",
       "      <td>0.0</td>\n",
       "      <td>[Gaza]</td>\n",
       "      <td>[http://whatsupic.com/news-politics-world/1385...</td>\n",
       "      <td>NaN</td>\n",
       "      <td>NaN</td>\n",
       "      <td>2013-11-30 08:19:00</td>\n",
       "      <td>08:19:00</td>\n",
       "      <td>8</td>\n",
       "      <td>iranian</td>\n",
       "    </tr>\n",
       "    <tr>\n",
       "      <th>4</th>\n",
       "      <td>383923374436515841</td>\n",
       "      <td>1443219385</td>\n",
       "      <td>Whatsupic</td>\n",
       "      <td>Whatsupic</td>\n",
       "      <td>United Kingdom</td>\n",
       "      <td>Unbiased News Reported by Users along our Own ...</td>\n",
       "      <td>http://t.co/ziSrivGi68</td>\n",
       "      <td>2364</td>\n",
       "      <td>1160</td>\n",
       "      <td>2013-05-20</td>\n",
       "      <td>...</td>\n",
       "      <td>0.0</td>\n",
       "      <td>0.0</td>\n",
       "      <td>[Mexico, JavierHernandez]</td>\n",
       "      <td>[http://whatsupic.com/sports-mexico/3180-mexic...</td>\n",
       "      <td>NaN</td>\n",
       "      <td>NaN</td>\n",
       "      <td>2013-09-28 11:57:00</td>\n",
       "      <td>11:57:00</td>\n",
       "      <td>11</td>\n",
       "      <td>iranian</td>\n",
       "    </tr>\n",
       "  </tbody>\n",
       "</table>\n",
       "<p>5 rows × 35 columns</p>\n",
       "</div>"
      ],
      "text/plain": [
       "              tweetid              userid    user_display_name  \\\n",
       "0  918741290078138368  867065768973713408  Contra el Trumpismo   \n",
       "1  954286721633529856  867065768973713408  Contra el Trumpismo   \n",
       "2  913429163025010688  867065768973713408  Contra el Trumpismo   \n",
       "3  406699069038292993          1443219385            Whatsupic   \n",
       "4  383923374436515841          1443219385            Whatsupic   \n",
       "\n",
       "  user_screen_name user_reported_location  \\\n",
       "0  ContraTrumpismo     Caracas, Venezuela   \n",
       "1  ContraTrumpismo     Caracas, Venezuela   \n",
       "2  ContraTrumpismo     Caracas, Venezuela   \n",
       "3        Whatsupic         United Kingdom   \n",
       "4        Whatsupic         United Kingdom   \n",
       "\n",
       "                            user_profile_description        user_profile_url  \\\n",
       "0  Todo el mundo es lleno de los Crímenes de EEUU...                     NaN   \n",
       "1  Todo el mundo es lleno de los Crímenes de EEUU...                     NaN   \n",
       "2  Todo el mundo es lleno de los Crímenes de EEUU...                     NaN   \n",
       "3  Unbiased News Reported by Users along our Own ...  http://t.co/ziSrivGi68   \n",
       "4  Unbiased News Reported by Users along our Own ...  http://t.co/ziSrivGi68   \n",
       "\n",
       "  follower_count following_count account_creation_date  ... like_count  \\\n",
       "0           1962            2054            2017-05-23  ...        0.0   \n",
       "1           1962            2054            2017-05-23  ...        4.0   \n",
       "2           1962            2054            2017-05-23  ...        0.0   \n",
       "3           2364            1160            2013-05-20  ...        0.0   \n",
       "4           2364            1160            2013-05-20  ...        0.0   \n",
       "\n",
       "  retweet_count                   hashtags  \\\n",
       "0           0.0                     [EEUU]   \n",
       "1           3.0          [Corea_del_Norte]   \n",
       "2           0.0                     [Seúl]   \n",
       "3           0.0                     [Gaza]   \n",
       "4           0.0  [Mexico, JavierHernandez]   \n",
       "\n",
       "                                                urls         user_mentions  \\\n",
       "0                                                 []                    []   \n",
       "1                                                 []                    []   \n",
       "2                                                 []  [867065768973713408]   \n",
       "3  [http://whatsupic.com/news-politics-world/1385...                   NaN   \n",
       "4  [http://whatsupic.com/sports-mexico/3180-mexic...                   NaN   \n",
       "\n",
       "  poll_choices   tweet_record_time      time  hour  country  \n",
       "0          NaN 2017-10-13 07:32:00  07:32:00     7  iranian  \n",
       "1          NaN 2018-01-19 09:37:00  09:37:00     9  iranian  \n",
       "2          NaN 2017-09-28 15:44:00  15:44:00    15  iranian  \n",
       "3          NaN 2013-11-30 08:19:00  08:19:00     8  iranian  \n",
       "4          NaN 2013-09-28 11:57:00  11:57:00    11  iranian  \n",
       "\n",
       "[5 rows x 35 columns]"
      ]
     },
     "execution_count": 53,
     "metadata": {},
     "output_type": "execute_result"
    }
   ],
   "source": [
    "#iranian.head()"
   ]
  },
  {
   "cell_type": "code",
   "execution_count": 54,
   "metadata": {
    "scrolled": true
   },
   "outputs": [],
   "source": [
    "russia.to_csv(\"rus_tweet.csv\")"
   ]
  },
  {
   "cell_type": "code",
   "execution_count": 55,
   "metadata": {},
   "outputs": [],
   "source": [
    "russia.to_csv(\"all_tweet.csv\")"
   ]
  },
  {
   "cell_type": "code",
   "execution_count": 56,
   "metadata": {},
   "outputs": [],
   "source": [
    "bangladesh.to_csv(\"bang_tweet.csv\")"
   ]
  },
  {
   "cell_type": "code",
   "execution_count": 58,
   "metadata": {},
   "outputs": [],
   "source": [
    "bangladesh.to_csv(\"all_tweet.csv\", mode='a')"
   ]
  },
  {
   "cell_type": "code",
   "execution_count": 59,
   "metadata": {},
   "outputs": [],
   "source": [
    "iranian.to_csv(\"iran_tweet.csv\")"
   ]
  },
  {
   "cell_type": "code",
   "execution_count": 60,
   "metadata": {},
   "outputs": [],
   "source": [
    "iranian.to_csv(\"all_tweet.csv\", mode='a')"
   ]
  }
 ],
 "metadata": {
  "kernelspec": {
   "display_name": "Python 3",
   "language": "python",
   "name": "python3"
  },
  "language_info": {
   "codemirror_mode": {
    "name": "ipython",
    "version": 3
   },
   "file_extension": ".py",
   "mimetype": "text/x-python",
   "name": "python",
   "nbconvert_exporter": "python",
   "pygments_lexer": "ipython3",
   "version": "3.7.2"
  }
 },
 "nbformat": 4,
 "nbformat_minor": 2
}
