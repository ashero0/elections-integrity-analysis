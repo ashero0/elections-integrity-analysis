{
 "cells": [
  {
   "cell_type": "code",
   "execution_count": 1,
   "metadata": {},
   "outputs": [],
   "source": [
    "import pandas as pd\n",
    "import numpy as np\n",
    "import os\n",
    "from pandas import Series, DataFrame, Panel\n",
    "from datetime import datetime"
   ]
  },
  {
   "cell_type": "code",
   "execution_count": 2,
   "metadata": {},
   "outputs": [],
   "source": [
    "import plotly.plotly as py\n",
    "import cufflinks as cf\n"
   ]
  },
  {
   "cell_type": "code",
   "execution_count": 3,
   "metadata": {},
   "outputs": [],
   "source": [
    "\n",
    "from matplotlib import pyplot\n"
   ]
  },
  {
   "cell_type": "code",
   "execution_count": 4,
   "metadata": {},
   "outputs": [],
   "source": [
    "filename = './data/bangladesh_201901_1_tweets_csv_hashed.csv'"
   ]
  },
  {
   "cell_type": "code",
   "execution_count": 5,
   "metadata": {},
   "outputs": [],
   "source": [
    "bld = pd.read_csv(filename, dtype = {\n",
    "    \"tweetid\": str,\n",
    "    \"userid\": str,\n",
    "    \"user_display_name\": str,\n",
    "    \"user_screen_name\": str,\n",
    "    \"user_reported_location\": str,\n",
    "    \"user_profile_description\": str,\n",
    "    \"user_profile_url\": str,\n",
    "    \"follower_count\": str,\n",
    "    \"following_count\": str,\n",
    "    \"account_creation_date\": str,\n",
    "    \"account_language\": str,\n",
    "    \"tweet_text\": str,\n",
    "    \"tweet_time\": str,\n",
    "    \"tweet_client_name\": str,\n",
    "    \"in_reply_to_tweetid\": str,\n",
    "    \"in_reply_to_userid\": str,\n",
    "    \"quoted_tweet_tweetid\": str,\n",
    "    \"is_retweet\": bool,\n",
    "    \"retweet_userid\": str,\n",
    "    \"retweet_tweetid\": str,\n",
    "    \"latitude\": str,\n",
    "    \"longitude\": str,\n",
    "    \"quote_count\": str,\n",
    "    \"reply_count\": str,\n",
    "    \"like_count\": str,\n",
    "    \"retweet_count\": str,\n",
    "    \"hashtags\": str,\n",
    "    \"urls\": str,\n",
    "    \"user_mentions\": str,\n",
    "    \"poll_choices\": str,\n",
    "})"
   ]
  },
  {
   "cell_type": "code",
   "execution_count": 6,
   "metadata": {},
   "outputs": [
    {
     "name": "stdout",
     "output_type": "stream",
     "text": [
      "26214\n"
     ]
    }
   ],
   "source": [
    "print(len(bld))"
   ]
  },
  {
   "cell_type": "code",
   "execution_count": 7,
   "metadata": {},
   "outputs": [
    {
     "data": {
      "text/plain": [
       "Index(['tweetid', 'userid', 'user_display_name', 'user_screen_name',\n",
       "       'user_reported_location', 'user_profile_description',\n",
       "       'user_profile_url', 'follower_count', 'following_count',\n",
       "       'account_creation_date', 'account_language', 'tweet_text', 'tweet_time',\n",
       "       'tweet_client_name', 'in_reply_to_tweetid', 'in_reply_to_userid',\n",
       "       'quoted_tweet_tweetid', 'is_retweet', 'retweet_userid',\n",
       "       'retweet_tweetid', 'latitude', 'longitude', 'quote_count',\n",
       "       'reply_count', 'like_count', 'retweet_count', 'hashtags', 'urls',\n",
       "       'user_mentions', 'poll_choices'],\n",
       "      dtype='object')"
      ]
     },
     "execution_count": 7,
     "metadata": {},
     "output_type": "execute_result"
    }
   ],
   "source": [
    "bld.columns\n"
   ]
  },
  {
   "cell_type": "code",
   "execution_count": null,
   "metadata": {},
   "outputs": [],
   "source": [
    "#russia['tweet_time']"
   ]
  },
  {
   "cell_type": "code",
   "execution_count": 8,
   "metadata": {},
   "outputs": [],
   "source": [
    "bld['tweet_record_time'] = pd.to_datetime(bld['tweet_time'], format ='%Y-%m-%d %H:%M')"
   ]
  },
  {
   "cell_type": "code",
   "execution_count": null,
   "metadata": {},
   "outputs": [],
   "source": [
    "#russia['tweet_record_time']"
   ]
  },
  {
   "cell_type": "code",
   "execution_count": 9,
   "metadata": {},
   "outputs": [],
   "source": [
    "time = []"
   ]
  },
  {
   "cell_type": "code",
   "execution_count": 10,
   "metadata": {},
   "outputs": [],
   "source": [
    "for i in bld['tweet_record_time']:\n",
    "    time.append(i.time())\n",
    "    #print(i.time())"
   ]
  },
  {
   "cell_type": "code",
   "execution_count": 11,
   "metadata": {},
   "outputs": [],
   "source": [
    "bld['time'] = time"
   ]
  },
  {
   "cell_type": "code",
   "execution_count": 12,
   "metadata": {},
   "outputs": [],
   "source": [
    "hour =[]"
   ]
  },
  {
   "cell_type": "code",
   "execution_count": 13,
   "metadata": {},
   "outputs": [],
   "source": [
    "for i in bld['time']:\n",
    "    hour.append(i.hour)\n",
    "    #print(i.time())"
   ]
  },
  {
   "cell_type": "code",
   "execution_count": 14,
   "metadata": {},
   "outputs": [],
   "source": [
    "bld['hour'] = hour"
   ]
  },
  {
   "cell_type": "code",
   "execution_count": 15,
   "metadata": {},
   "outputs": [
    {
     "data": {
      "text/html": [
       "<div>\n",
       "<style scoped>\n",
       "    .dataframe tbody tr th:only-of-type {\n",
       "        vertical-align: middle;\n",
       "    }\n",
       "\n",
       "    .dataframe tbody tr th {\n",
       "        vertical-align: top;\n",
       "    }\n",
       "\n",
       "    .dataframe thead th {\n",
       "        text-align: right;\n",
       "    }\n",
       "</style>\n",
       "<table border=\"1\" class=\"dataframe\">\n",
       "  <thead>\n",
       "    <tr style=\"text-align: right;\">\n",
       "      <th></th>\n",
       "      <th>tweetid</th>\n",
       "      <th>userid</th>\n",
       "      <th>user_display_name</th>\n",
       "      <th>user_screen_name</th>\n",
       "      <th>user_reported_location</th>\n",
       "      <th>user_profile_description</th>\n",
       "      <th>user_profile_url</th>\n",
       "      <th>follower_count</th>\n",
       "      <th>following_count</th>\n",
       "      <th>account_creation_date</th>\n",
       "      <th>...</th>\n",
       "      <th>reply_count</th>\n",
       "      <th>like_count</th>\n",
       "      <th>retweet_count</th>\n",
       "      <th>hashtags</th>\n",
       "      <th>urls</th>\n",
       "      <th>user_mentions</th>\n",
       "      <th>poll_choices</th>\n",
       "      <th>tweet_record_time</th>\n",
       "      <th>time</th>\n",
       "      <th>hour</th>\n",
       "    </tr>\n",
       "  </thead>\n",
       "  <tbody>\n",
       "    <tr>\n",
       "      <th>0</th>\n",
       "      <td>986160604619649024</td>\n",
       "      <td>UOYzWkr60fJQXg134s861VR6yVN8ECzm9Onrnvu5s=</td>\n",
       "      <td>UOYzWkr60fJQXg134s861VR6yVN8ECzm9Onrnvu5s=</td>\n",
       "      <td>UOYzWkr60fJQXg134s861VR6yVN8ECzm9Onrnvu5s=</td>\n",
       "      <td>Dhaka, Bangladesh</td>\n",
       "      <td>https://t.co/wtfVbjri8C is a Bangladesh based ...</td>\n",
       "      <td>https://t.co/NqkVpBrBsg</td>\n",
       "      <td>156</td>\n",
       "      <td>8</td>\n",
       "      <td>2017-11-14</td>\n",
       "      <td>...</td>\n",
       "      <td>0.0</td>\n",
       "      <td>0.0</td>\n",
       "      <td>0.0</td>\n",
       "      <td>[]</td>\n",
       "      <td>[https://sarabangla.net/%E0%A6%B9%E0%A6%95%E0%...</td>\n",
       "      <td>[]</td>\n",
       "      <td>NaN</td>\n",
       "      <td>2018-04-17 08:33:00</td>\n",
       "      <td>08:33:00</td>\n",
       "      <td>8</td>\n",
       "    </tr>\n",
       "    <tr>\n",
       "      <th>1</th>\n",
       "      <td>1040905558256046080</td>\n",
       "      <td>UOYzWkr60fJQXg134s861VR6yVN8ECzm9Onrnvu5s=</td>\n",
       "      <td>UOYzWkr60fJQXg134s861VR6yVN8ECzm9Onrnvu5s=</td>\n",
       "      <td>UOYzWkr60fJQXg134s861VR6yVN8ECzm9Onrnvu5s=</td>\n",
       "      <td>Dhaka, Bangladesh</td>\n",
       "      <td>https://t.co/wtfVbjri8C is a Bangladesh based ...</td>\n",
       "      <td>https://t.co/NqkVpBrBsg</td>\n",
       "      <td>156</td>\n",
       "      <td>8</td>\n",
       "      <td>2017-11-14</td>\n",
       "      <td>...</td>\n",
       "      <td>0.0</td>\n",
       "      <td>0.0</td>\n",
       "      <td>0.0</td>\n",
       "      <td>[]</td>\n",
       "      <td>[https://sarabangla.net/%e0%a6%ac%e0%a6%bf%e0%...</td>\n",
       "      <td>[]</td>\n",
       "      <td>NaN</td>\n",
       "      <td>2018-09-15 10:09:00</td>\n",
       "      <td>10:09:00</td>\n",
       "      <td>10</td>\n",
       "    </tr>\n",
       "    <tr>\n",
       "      <th>2</th>\n",
       "      <td>1040624936866340864</td>\n",
       "      <td>UOYzWkr60fJQXg134s861VR6yVN8ECzm9Onrnvu5s=</td>\n",
       "      <td>UOYzWkr60fJQXg134s861VR6yVN8ECzm9Onrnvu5s=</td>\n",
       "      <td>UOYzWkr60fJQXg134s861VR6yVN8ECzm9Onrnvu5s=</td>\n",
       "      <td>Dhaka, Bangladesh</td>\n",
       "      <td>https://t.co/wtfVbjri8C is a Bangladesh based ...</td>\n",
       "      <td>https://t.co/NqkVpBrBsg</td>\n",
       "      <td>156</td>\n",
       "      <td>8</td>\n",
       "      <td>2017-11-14</td>\n",
       "      <td>...</td>\n",
       "      <td>0.0</td>\n",
       "      <td>0.0</td>\n",
       "      <td>0.0</td>\n",
       "      <td>[]</td>\n",
       "      <td>[https://sarabangla.net/%e0%a6%a1%e0%a6%be%e0%...</td>\n",
       "      <td>[]</td>\n",
       "      <td>NaN</td>\n",
       "      <td>2018-09-14 15:34:00</td>\n",
       "      <td>15:34:00</td>\n",
       "      <td>15</td>\n",
       "    </tr>\n",
       "    <tr>\n",
       "      <th>3</th>\n",
       "      <td>1049662660466417664</td>\n",
       "      <td>UOYzWkr60fJQXg134s861VR6yVN8ECzm9Onrnvu5s=</td>\n",
       "      <td>UOYzWkr60fJQXg134s861VR6yVN8ECzm9Onrnvu5s=</td>\n",
       "      <td>UOYzWkr60fJQXg134s861VR6yVN8ECzm9Onrnvu5s=</td>\n",
       "      <td>Dhaka, Bangladesh</td>\n",
       "      <td>https://t.co/wtfVbjri8C is a Bangladesh based ...</td>\n",
       "      <td>https://t.co/NqkVpBrBsg</td>\n",
       "      <td>156</td>\n",
       "      <td>8</td>\n",
       "      <td>2017-11-14</td>\n",
       "      <td>...</td>\n",
       "      <td>0.0</td>\n",
       "      <td>0.0</td>\n",
       "      <td>0.0</td>\n",
       "      <td>[]</td>\n",
       "      <td>[https://sarabangla.net/%e0%a6%ac%e0%a7%8d%e0%...</td>\n",
       "      <td>[]</td>\n",
       "      <td>NaN</td>\n",
       "      <td>2018-10-09 14:07:00</td>\n",
       "      <td>14:07:00</td>\n",
       "      <td>14</td>\n",
       "    </tr>\n",
       "    <tr>\n",
       "      <th>4</th>\n",
       "      <td>987668205094125568</td>\n",
       "      <td>UOYzWkr60fJQXg134s861VR6yVN8ECzm9Onrnvu5s=</td>\n",
       "      <td>UOYzWkr60fJQXg134s861VR6yVN8ECzm9Onrnvu5s=</td>\n",
       "      <td>UOYzWkr60fJQXg134s861VR6yVN8ECzm9Onrnvu5s=</td>\n",
       "      <td>Dhaka, Bangladesh</td>\n",
       "      <td>https://t.co/wtfVbjri8C is a Bangladesh based ...</td>\n",
       "      <td>https://t.co/NqkVpBrBsg</td>\n",
       "      <td>156</td>\n",
       "      <td>8</td>\n",
       "      <td>2017-11-14</td>\n",
       "      <td>...</td>\n",
       "      <td>0.0</td>\n",
       "      <td>0.0</td>\n",
       "      <td>0.0</td>\n",
       "      <td>[]</td>\n",
       "      <td>[https://sarabangla.net/%E0%A6%B0%E2%80%8C%E0%...</td>\n",
       "      <td>[]</td>\n",
       "      <td>NaN</td>\n",
       "      <td>2018-04-21 12:23:00</td>\n",
       "      <td>12:23:00</td>\n",
       "      <td>12</td>\n",
       "    </tr>\n",
       "  </tbody>\n",
       "</table>\n",
       "<p>5 rows × 33 columns</p>\n",
       "</div>"
      ],
      "text/plain": [
       "               tweetid                                      userid  \\\n",
       "0   986160604619649024  UOYzWkr60fJQXg134s861VR6yVN8ECzm9Onrnvu5s=   \n",
       "1  1040905558256046080  UOYzWkr60fJQXg134s861VR6yVN8ECzm9Onrnvu5s=   \n",
       "2  1040624936866340864  UOYzWkr60fJQXg134s861VR6yVN8ECzm9Onrnvu5s=   \n",
       "3  1049662660466417664  UOYzWkr60fJQXg134s861VR6yVN8ECzm9Onrnvu5s=   \n",
       "4   987668205094125568  UOYzWkr60fJQXg134s861VR6yVN8ECzm9Onrnvu5s=   \n",
       "\n",
       "                            user_display_name  \\\n",
       "0  UOYzWkr60fJQXg134s861VR6yVN8ECzm9Onrnvu5s=   \n",
       "1  UOYzWkr60fJQXg134s861VR6yVN8ECzm9Onrnvu5s=   \n",
       "2  UOYzWkr60fJQXg134s861VR6yVN8ECzm9Onrnvu5s=   \n",
       "3  UOYzWkr60fJQXg134s861VR6yVN8ECzm9Onrnvu5s=   \n",
       "4  UOYzWkr60fJQXg134s861VR6yVN8ECzm9Onrnvu5s=   \n",
       "\n",
       "                             user_screen_name user_reported_location  \\\n",
       "0  UOYzWkr60fJQXg134s861VR6yVN8ECzm9Onrnvu5s=      Dhaka, Bangladesh   \n",
       "1  UOYzWkr60fJQXg134s861VR6yVN8ECzm9Onrnvu5s=      Dhaka, Bangladesh   \n",
       "2  UOYzWkr60fJQXg134s861VR6yVN8ECzm9Onrnvu5s=      Dhaka, Bangladesh   \n",
       "3  UOYzWkr60fJQXg134s861VR6yVN8ECzm9Onrnvu5s=      Dhaka, Bangladesh   \n",
       "4  UOYzWkr60fJQXg134s861VR6yVN8ECzm9Onrnvu5s=      Dhaka, Bangladesh   \n",
       "\n",
       "                            user_profile_description         user_profile_url  \\\n",
       "0  https://t.co/wtfVbjri8C is a Bangladesh based ...  https://t.co/NqkVpBrBsg   \n",
       "1  https://t.co/wtfVbjri8C is a Bangladesh based ...  https://t.co/NqkVpBrBsg   \n",
       "2  https://t.co/wtfVbjri8C is a Bangladesh based ...  https://t.co/NqkVpBrBsg   \n",
       "3  https://t.co/wtfVbjri8C is a Bangladesh based ...  https://t.co/NqkVpBrBsg   \n",
       "4  https://t.co/wtfVbjri8C is a Bangladesh based ...  https://t.co/NqkVpBrBsg   \n",
       "\n",
       "  follower_count following_count account_creation_date ...  reply_count  \\\n",
       "0            156               8            2017-11-14 ...          0.0   \n",
       "1            156               8            2017-11-14 ...          0.0   \n",
       "2            156               8            2017-11-14 ...          0.0   \n",
       "3            156               8            2017-11-14 ...          0.0   \n",
       "4            156               8            2017-11-14 ...          0.0   \n",
       "\n",
       "  like_count retweet_count hashtags  \\\n",
       "0        0.0           0.0       []   \n",
       "1        0.0           0.0       []   \n",
       "2        0.0           0.0       []   \n",
       "3        0.0           0.0       []   \n",
       "4        0.0           0.0       []   \n",
       "\n",
       "                                                urls user_mentions  \\\n",
       "0  [https://sarabangla.net/%E0%A6%B9%E0%A6%95%E0%...            []   \n",
       "1  [https://sarabangla.net/%e0%a6%ac%e0%a6%bf%e0%...            []   \n",
       "2  [https://sarabangla.net/%e0%a6%a1%e0%a6%be%e0%...            []   \n",
       "3  [https://sarabangla.net/%e0%a6%ac%e0%a7%8d%e0%...            []   \n",
       "4  [https://sarabangla.net/%E0%A6%B0%E2%80%8C%E0%...            []   \n",
       "\n",
       "  poll_choices   tweet_record_time      time hour  \n",
       "0          NaN 2018-04-17 08:33:00  08:33:00    8  \n",
       "1          NaN 2018-09-15 10:09:00  10:09:00   10  \n",
       "2          NaN 2018-09-14 15:34:00  15:34:00   15  \n",
       "3          NaN 2018-10-09 14:07:00  14:07:00   14  \n",
       "4          NaN 2018-04-21 12:23:00  12:23:00   12  \n",
       "\n",
       "[5 rows x 33 columns]"
      ]
     },
     "execution_count": 15,
     "metadata": {},
     "output_type": "execute_result"
    }
   ],
   "source": [
    "bld.head()"
   ]
  },
  {
   "cell_type": "code",
   "execution_count": 32,
   "metadata": {},
   "outputs": [],
   "source": [
    "#cf.set_config_file(offline=False, world_readable=True, theme='ggplot')\n",
    "\n",
    "#russia.iplot(x='time',kind='scatter') "
   ]
  },
  {
   "cell_type": "code",
   "execution_count": 16,
   "metadata": {},
   "outputs": [
    {
     "data": {
      "text/plain": [
       "<matplotlib.axes._subplots.AxesSubplot at 0x209431f4518>"
      ]
     },
     "execution_count": 16,
     "metadata": {},
     "output_type": "execute_result"
    },
    {
     "data": {
      "image/png": "[encoded data removed]",
      "text/plain": [
       "<Figure size 432x288 with 1 Axes>"
      ]
     },
     "metadata": {
      "needs_background": "light"
     },
     "output_type": "display_data"
    }
   ],
   "source": [
    "bld['hour'].hist(bins = 30)"
   ]
  },
  {
   "cell_type": "code",
   "execution_count": 31,
   "metadata": {},
   "outputs": [],
   "source": [
    "#russia['hour'].plot()\n",
    "#pyplot.show()"
   ]
  },
  {
   "cell_type": "code",
   "execution_count": 28,
   "metadata": {},
   "outputs": [],
   "source": [
    "import matplotlib\n",
    "import matplotlib.pyplot as plt"
   ]
  },
  {
   "cell_type": "code",
   "execution_count": 17,
   "metadata": {},
   "outputs": [
    {
     "data": {
      "text/html": [
       "<div>\n",
       "<style scoped>\n",
       "    .dataframe tbody tr th:only-of-type {\n",
       "        vertical-align: middle;\n",
       "    }\n",
       "\n",
       "    .dataframe tbody tr th {\n",
       "        vertical-align: top;\n",
       "    }\n",
       "\n",
       "    .dataframe thead th {\n",
       "        text-align: right;\n",
       "    }\n",
       "</style>\n",
       "<table border=\"1\" class=\"dataframe\">\n",
       "  <thead>\n",
       "    <tr style=\"text-align: right;\">\n",
       "      <th>col_0</th>\n",
       "      <th>count</th>\n",
       "    </tr>\n",
       "    <tr>\n",
       "      <th>user_reported_location</th>\n",
       "      <th></th>\n",
       "    </tr>\n",
       "  </thead>\n",
       "  <tbody>\n",
       "    <tr>\n",
       "      <th>Sylhet, Bangladesh</th>\n",
       "      <td>14</td>\n",
       "    </tr>\n",
       "    <tr>\n",
       "      <th>Narayanganj, Bangladesh</th>\n",
       "      <td>122</td>\n",
       "    </tr>\n",
       "    <tr>\n",
       "      <th>Bangladesh</th>\n",
       "      <td>686</td>\n",
       "    </tr>\n",
       "    <tr>\n",
       "      <th>Dhaka</th>\n",
       "      <td>2134</td>\n",
       "    </tr>\n",
       "    <tr>\n",
       "      <th>Dhaka, Bangladesh</th>\n",
       "      <td>21343</td>\n",
       "    </tr>\n",
       "  </tbody>\n",
       "</table>\n",
       "</div>"
      ],
      "text/plain": [
       "col_0                    count\n",
       "user_reported_location        \n",
       "Sylhet, Bangladesh          14\n",
       "Narayanganj, Bangladesh    122\n",
       "Bangladesh                 686\n",
       "Dhaka                     2134\n",
       "Dhaka, Bangladesh        21343"
      ]
     },
     "execution_count": 17,
     "metadata": {},
     "output_type": "execute_result"
    }
   ],
   "source": [
    "pd.crosstab(index=bld['user_reported_location'],   columns=\"count\").sort_values(by=['count'])"
   ]
  },
  {
   "cell_type": "code",
   "execution_count": null,
   "metadata": {},
   "outputs": [],
   "source": []
  },
  {
   "cell_type": "code",
   "execution_count": null,
   "metadata": {},
   "outputs": [],
   "source": []
  }
 ],
 "metadata": {
  "kernelspec": {
   "display_name": "Python 3",
   "language": "python",
   "name": "python3"
  },
  "language_info": {
   "codemirror_mode": {
    "name": "ipython",
    "version": 3
   },
   "file_extension": ".py",
   "mimetype": "text/x-python",
   "name": "python",
   "nbconvert_exporter": "python",
   "pygments_lexer": "ipython3",
   "version": "3.6.6"
  }
 },
 "nbformat": 4,
 "nbformat_minor": 2
}
