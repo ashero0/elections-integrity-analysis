{
 "cells": [
  {
   "cell_type": "markdown",
   "metadata": {},
   "source": [
    "# Main Notebook\n",
    "Twitter Elections Integrity Analysis (Bot Busters)"
   ]
  },
  {
   "cell_type": "code",
   "execution_count": 3,
   "metadata": {},
   "outputs": [],
   "source": [
    "import pandas as pd\n",
    "import numpy as np"
   ]
  },
  {
   "cell_type": "code",
   "execution_count": 4,
   "metadata": {},
   "outputs": [],
   "source": [
    "russia = pd.read_csv('./russia_201901_1_tweets_csv_hashed.csv', dtype = {\n",
    "    \"tweetid\": str,\n",
    "    \"userid\": str,\n",
    "    \"user_display_name\": str,\n",
    "    \"user_screen_name\": str,\n",
    "    \"user_reported_location\": str,\n",
    "    \"user_profile_description\": str,\n",
    "    \"user_profile_url\": str,\n",
    "    \"follower_count\": str,\n",
    "    \"following_count\": str,\n",
    "    \"account_creation_date\": str,\n",
    "    \"account_language\": str,\n",
    "    \"tweet_text\": str,\n",
    "    \"tweet_time\": str,\n",
    "    \"tweet_client_name\": str,\n",
    "    \"in_reply_to_tweetid\": str,\n",
    "    \"in_reply_to_userid\": str,\n",
    "    \"quoted_tweet_tweetid\": str,\n",
    "    \"is_retweet\": bool,\n",
    "    \"retweet_userid\": str,\n",
    "    \"retweet_tweetid\": str,\n",
    "    \"latitude\": str,\n",
    "    \"longitude\": str,\n",
    "    \"quote_count\": str,\n",
    "    \"reply_count\": str,\n",
    "    \"like_count\": str,\n",
    "    \"retweet_count\": str,\n",
    "    \"hashtags\": str,\n",
    "    \"urls\": str,\n",
    "    \"user_mentions\": str,\n",
    "    \"poll_choices\": str,\n",
    "})"
   ]
  },
  {
   "cell_type": "code",
   "execution_count": 5,
   "metadata": {
    "scrolled": true
   },
   "outputs": [
    {
     "name": "stdout",
     "output_type": "stream",
     "text": [
      "765246\n"
     ]
    }
   ],
   "source": [
    "print(len(russia))"
   ]
  },
  {
   "cell_type": "code",
   "execution_count": 6,
   "metadata": {
    "scrolled": true
   },
   "outputs": [
    {
     "name": "stdout",
     "output_type": "stream",
     "text": [
      "tweetid                                                    709190244881408000\n",
      "userid                                                             2980186012\n",
      "user_display_name                                             Infidel II 🕋💣🕋💩\n",
      "user_screen_name                                              CathyTo47590555\n",
      "user_reported_location                         USA  #IslamIsTheProbem #WakeUp\n",
      "user_profile_description    I believe that OUR COUNTRY needs to BAN ISLAM ...\n",
      "user_profile_url                                                          NaN\n",
      "follower_count                                                           8685\n",
      "following_count                                                          1451\n",
      "account_creation_date                                              2015-01-15\n",
      "account_language                                                           en\n",
      "tweet_text                  RT @AnnCoulter: Former Hialeah Mayor Julio Mar...\n",
      "tweet_time                                                   2016-03-14 01:31\n",
      "tweet_client_name                                          Twitter for iPhone\n",
      "in_reply_to_tweetid                                                       NaN\n",
      "in_reply_to_userid                                                        NaN\n",
      "quoted_tweet_tweetid                                                      NaN\n",
      "is_retweet                                                               True\n",
      "retweet_userid                                                      196168350\n",
      "retweet_tweetid                                            709083248584990720\n",
      "latitude                                                               absent\n",
      "longitude                                                              absent\n",
      "quote_count                                                               0.0\n",
      "reply_count                                                               0.0\n",
      "like_count                                                                0.0\n",
      "retweet_count                                                             0.0\n",
      "hashtags                                                                   []\n",
      "urls                                                  [http://bit.ly/1pFckqD]\n",
      "user_mentions                                   [AnnCoulter, realDonaldTrump]\n",
      "poll_choices                                                              NaN\n",
      "Name: 3, dtype: object\n"
     ]
    }
   ],
   "source": [
    "# Get an individual entry\n",
    "print(russia.iloc[3])\n",
    "# print(russia.iloc[3]['tweet_text'])"
   ]
  },
  {
   "cell_type": "code",
   "execution_count": 7,
   "metadata": {
    "scrolled": true
   },
   "outputs": [
    {
     "name": "stdout",
     "output_type": "stream",
     "text": [
      "TfAIZXAy2WKyIaMRGRo5Bc7TvYn5jid4HDIhZjHGuL0=(@TfAIZXAy2WKyIaMRGRo5Bc7TvYn5jid4HDIhZjHGuL0=):\n",
      "Follow your dreams. \n",
      "\n",
      "aX+o4MEU0jsv3nWf6rkY9XdnJo+lUKxMZ3dB4rKPeIg=(@aX+o4MEU0jsv3nWf6rkY9XdnJo+lUKxMZ3dB4rKPeIg=):\n",
      "Ashley Madison stats find New Orleans among the most adulterous cities \n",
      "\n",
      "Infidel II 🕋💣🕋💩(@CathyTo47590555):\n",
      "http://t.co/n1XwCJhPR8 \n",
      "\n",
      "Infidel II 🕋💣🕋💩(@CathyTo47590555):\n",
      "@nytimesworld Two Face scumbag! Listen up Obama \"Illegal is Illegal\" \n",
      "\n",
      "Infidel II 🕋💣🕋💩(@CathyTo47590555):\n",
      "#InaugurationDay #TrumpInauguration #Trumpismypresident #AmericaFirst #MAGA #PresidentDonaldTrump #FirstLadyMelaniaTrump 🇺🇸🇺🇸🇺🇸🇺🇸🇺🇸🇺🇸🇺🇸🇺🇸🇺🇸 https://t.co/ow5hlDH6JM \n",
      "\n",
      "Infidel II 🕋💣🕋💩(@CathyTo47590555):\n",
      "@MichaelBarabaro FUCKOFF #Losser #Idiot #blocked AlwaysTrump #Trump2016 #PresidentTrump #MakeAmericaGreatAgain https://t.co/7bVlEoCscm \n",
      "\n",
      "Infidel II 🕋💣🕋💩(@CathyTo47590555):\n",
      "@klrw2 YESICANYESIWILL!!!! \n",
      "\n"
     ]
    }
   ],
   "source": [
    "for i in range(0, 100):\n",
    "    elem = russia.iloc[i]\n",
    "    if not elem['is_retweet']:\n",
    "        printstr = elem['user_display_name'] + '(@' + elem['user_screen_name'] + '):'\n",
    "        print(printstr)\n",
    "        print(elem['tweet_text'], '\\n')"
   ]
  },
  {
   "cell_type": "code",
   "execution_count": 9,
   "metadata": {},
   "outputs": [
    {
     "name": "stdout",
     "output_type": "stream",
     "text": [
      "Black Panther Girl 🌊(@QuartneyChante):\n",
      "Dear White People\n",
      "\n",
      "It's a privilege to learn about racism instead of experiencing it your whole life.\n",
      "Likes: 10140.0 \n",
      "\n",
      "---\n",
      "Black Panther Girl 🌊(@QuartneyChante):\n",
      "Dear White People.\n",
      "\n",
      "When we say you're \"privileged\", we don't mean you were born rich or don't have to struggle to make a living.\n",
      "\n",
      "We're talking about the privilege of having White skin that immediately protects you from some stuff in society.\n",
      "Likes: 254228.0 \n",
      "\n",
      "---\n",
      "Black Panther Girl 🌊(@QuartneyChante):\n",
      "Congratulations to Dr. Patrice Harris! She just became the first African American woman to be elected president of the American Medical Association.\n",
      "\n",
      "I'm so proud of her! https://t.co/vLp6NHMQI9\n",
      "Likes: 12498.0 \n",
      "\n",
      "---\n",
      "Black Panther Girl 🌊(@QuartneyChante):\n",
      "In case you’re having a bad day. https://t.co/SDZKiV5Tf7\n",
      "Likes: 29522.0 \n",
      "\n",
      "---\n"
     ]
    }
   ],
   "source": [
    "# Print tweets with likes > 500\n",
    "for i in range(0, len(russia)):\n",
    "    elem = russia.iloc[i]\n",
    "    if float(elem['like_count']) > 10000.0:\n",
    "        printstr = elem['user_display_name'] + '(@' + elem['user_screen_name'] + '):'\n",
    "        print(printstr)\n",
    "        print(elem['tweet_text'])\n",
    "        print('Likes:', elem['like_count'], '\\n')\n",
    "        print('---')"
   ]
  },
  {
   "cell_type": "code",
   "execution_count": null,
   "metadata": {},
   "outputs": [],
   "source": []
  }
 ],
 "metadata": {
  "kernelspec": {
   "display_name": "Python 3",
   "language": "python",
   "name": "python3"
  },
  "language_info": {
   "codemirror_mode": {
    "name": "ipython",
    "version": 3
   },
   "file_extension": ".py",
   "mimetype": "text/x-python",
   "name": "python",
   "nbconvert_exporter": "python",
   "pygments_lexer": "ipython3",
   "version": "3.7.2"
  }
 },
 "nbformat": 4,
 "nbformat_minor": 2
}
