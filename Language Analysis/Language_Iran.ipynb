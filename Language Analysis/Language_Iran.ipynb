{
 "cells": [
  {
   "cell_type": "markdown",
   "metadata": {},
   "source": [
    "# Language Analysis: Iran\n",
    "Analyzing the language of **accounts and tweets** identified by Twitter to be associated with the country's information operations."
   ]
  },
  {
   "cell_type": "code",
   "execution_count": 1,
   "metadata": {},
   "outputs": [],
   "source": [
    "import pandas as pd\n",
    "import numpy as np\n",
    "from matplotlib import pyplot as plt\n",
    "import langdetect\n",
    "from collections import Counter\n",
    "import iso639 as pylang\n",
    "import seaborn as sns\n",
    "\n",
    "twitter_color = (0.114, 0.631, 0.949, 1.0)"
   ]
  },
  {
   "cell_type": "markdown",
   "metadata": {},
   "source": [
    "---\n",
    "## Tweet Language Summary"
   ]
  },
  {
   "cell_type": "code",
   "execution_count": 2,
   "metadata": {},
   "outputs": [],
   "source": [
    "filename_one = '../Data/iranian_tweets_csv_hashed.csv'\n",
    "filename_two = '../Data/iran_201901_1_tweets_csv_hashed.csv'"
   ]
  },
  {
   "cell_type": "markdown",
   "metadata": {},
   "source": [
    "#### Import dataset 1"
   ]
  },
  {
   "cell_type": "code",
   "execution_count": 3,
   "metadata": {},
   "outputs": [],
   "source": [
    "iran_one = pd.read_csv(filename_one, dtype = {\n",
    "    \"tweetid\": str,\n",
    "    \"userid\": str,\n",
    "    \"user_display_name\": str,\n",
    "    \"user_screen_name\": str,\n",
    "    \"user_reported_location\": str,\n",
    "    \"user_profile_description\": str,\n",
    "    \"user_profile_url\": str,\n",
    "    \"follower_count\": str,\n",
    "    \"following_count\": str,\n",
    "    \"account_creation_date\": str,\n",
    "    \"account_language\": str,\n",
    "    \"tweet_text\": str,\n",
    "    \"tweet_time\": str,\n",
    "    \"tweet_client_name\": str,\n",
    "    \"in_reply_to_tweetid\": str,\n",
    "    \"in_reply_to_userid\": str,\n",
    "    \"quoted_tweet_tweetid\": str,\n",
    "    \"is_retweet\": bool,\n",
    "    \"retweet_userid\": str,\n",
    "    \"retweet_tweetid\": str,\n",
    "    \"latitude\": str,\n",
    "    \"longitude\": str,\n",
    "    \"quote_count\": str,\n",
    "    \"reply_count\": str,\n",
    "    \"like_count\": str,\n",
    "    \"retweet_count\": str,\n",
    "    \"hashtags\": str,\n",
    "    \"urls\": str,\n",
    "    \"user_mentions\": str,\n",
    "    \"poll_choices\": str,\n",
    "})"
   ]
  },
  {
   "cell_type": "markdown",
   "metadata": {},
   "source": [
    "#### Import dataset 2"
   ]
  },
  {
   "cell_type": "code",
   "execution_count": 4,
   "metadata": {},
   "outputs": [],
   "source": [
    "iran_two = pd.read_csv(filename_two, dtype = {\n",
    "    \"tweetid\": str,\n",
    "    \"userid\": str,\n",
    "    \"user_display_name\": str,\n",
    "    \"user_screen_name\": str,\n",
    "    \"user_reported_location\": str,\n",
    "    \"user_profile_description\": str,\n",
    "    \"user_profile_url\": str,\n",
    "    \"follower_count\": str,\n",
    "    \"following_count\": str,\n",
    "    \"account_creation_date\": str,\n",
    "    \"account_language\": str,\n",
    "    \"tweet_text\": str,\n",
    "    \"tweet_time\": str,\n",
    "    \"tweet_client_name\": str,\n",
    "    \"in_reply_to_tweetid\": str,\n",
    "    \"in_reply_to_userid\": str,\n",
    "    \"quoted_tweet_tweetid\": str,\n",
    "    \"is_retweet\": bool,\n",
    "    \"retweet_userid\": str,\n",
    "    \"retweet_tweetid\": str,\n",
    "    \"latitude\": str,\n",
    "    \"longitude\": str,\n",
    "    \"quote_count\": str,\n",
    "    \"reply_count\": str,\n",
    "    \"like_count\": str,\n",
    "    \"retweet_count\": str,\n",
    "    \"hashtags\": str,\n",
    "    \"urls\": str,\n",
    "    \"user_mentions\": str,\n",
    "    \"poll_choices\": str,\n",
    "})"
   ]
  },
  {
   "cell_type": "markdown",
   "metadata": {},
   "source": [
    "#### Combine datasets"
   ]
  },
  {
   "cell_type": "code",
   "execution_count": 12,
   "metadata": {},
   "outputs": [],
   "source": [
    "iran_datasets = [iran_one, iran_two]\n",
    "iran = pd.concat(iran_datasets, sort=False)"
   ]
  },
  {
   "cell_type": "markdown",
   "metadata": {},
   "source": [
    "#### Print number of tweets"
   ]
  },
  {
   "cell_type": "code",
   "execution_count": 13,
   "metadata": {},
   "outputs": [
    {
     "name": "stdout",
     "output_type": "stream",
     "text": [
      "5569992\n"
     ]
    }
   ],
   "source": [
    "print(len(iran))"
   ]
  },
  {
   "cell_type": "markdown",
   "metadata": {},
   "source": [
    "#### Print features that we can access"
   ]
  },
  {
   "cell_type": "code",
   "execution_count": 14,
   "metadata": {},
   "outputs": [
    {
     "data": {
      "text/plain": [
       "Index(['tweetid', 'userid', 'user_display_name', 'user_screen_name',\n",
       "       'user_reported_location', 'user_profile_description',\n",
       "       'user_profile_url', 'follower_count', 'following_count',\n",
       "       'account_creation_date', 'account_language', 'tweet_language',\n",
       "       'tweet_text', 'tweet_time', 'tweet_client_name', 'in_reply_to_tweetid',\n",
       "       'in_reply_to_userid', 'quoted_tweet_tweetid', 'is_retweet',\n",
       "       'retweet_userid', 'retweet_tweetid', 'latitude', 'longitude',\n",
       "       'quote_count', 'reply_count', 'like_count', 'retweet_count', 'hashtags',\n",
       "       'urls', 'user_mentions', 'poll_choices'],\n",
       "      dtype='object')"
      ]
     },
     "execution_count": 14,
     "metadata": {},
     "output_type": "execute_result"
    }
   ],
   "source": [
    "iran.columns"
   ]
  },
  {
   "cell_type": "markdown",
   "metadata": {},
   "source": [
    "#### Sample data of tweets & their detected language"
   ]
  },
  {
   "cell_type": "code",
   "execution_count": 15,
   "metadata": {
    "scrolled": true
   },
   "outputs": [
    {
     "name": "stdout",
     "output_type": "stream",
     "text": [
      "@bellisarobz Ces photos illustrent parfaitement ce que ressentent les pères à un concert de One Direction http://t.co/YGdg8ihIh7\n",
      "fr\n",
      "\n",
      "@ParkerLampe An inquiry by congress confirms that ISIS is indeed a CIA creation http://t.co/eFRmFwYZTV\n",
      "en\n",
      "\n",
      "@hadeelhmaidi @wordpressdotcom CIA predict third terrorist attack after Sidney and Pakiistan in USA in 3 days http://t.co/IrPx7M223N\n",
      "en\n",
      "\n",
      "@MartinYannis l'avis bizarre de marcel tonton sur booba http://t.co/iFojzaCe4K\n",
      "fr\n",
      "\n",
      "@courrierinter Les laboratoires US de guerre biologique à l’origine de l’épidémie d’Ebola http://t.co/Kg1VuP4ixb\n",
      "fr\n",
      "\n"
     ]
    }
   ],
   "source": [
    "for elem in iran.head(5)['tweet_text']:\n",
    "    print(elem)\n",
    "    print(langdetect.detect(elem))\n",
    "    print()"
   ]
  },
  {
   "cell_type": "markdown",
   "metadata": {},
   "source": [
    "#### Detect language of tweets & store in a list\n",
    "Only do first 10,000 tweets for Milestone 1"
   ]
  },
  {
   "cell_type": "code",
   "execution_count": 16,
   "metadata": {},
   "outputs": [],
   "source": [
    "tweet_languages = []\n",
    "num_of_tweets = 10000\n",
    "iran_tweets = iran.head(num_of_tweets)['tweet_text']\n",
    "\n",
    "for tweet_text in iran_tweets:\n",
    "    lang = ''\n",
    "    try:\n",
    "        lang = langdetect.detect(tweet_text)\n",
    "    except:\n",
    "        lang = 'n/a'\n",
    "    tweet_languages.append(lang)"
   ]
  },
  {
   "cell_type": "markdown",
   "metadata": {},
   "source": [
    "#### Get counts of each language"
   ]
  },
  {
   "cell_type": "code",
   "execution_count": 17,
   "metadata": {},
   "outputs": [
    {
     "name": "stdout",
     "output_type": "stream",
     "text": [
      "Counter({'en': 2883, 'fr': 2426, 'ar': 1456, 'fa': 891, 'tr': 857, 'es': 517, 'ru': 324, 'ca': 80, 'n/a': 74, 'so': 67, 'de': 66, 'id': 65, 'ur': 53, 'hi': 42, 'it': 35, 'pt': 20, 'nl': 16, 'cy': 16, 'tl': 14, 'sw': 12, 'ro': 12, 'et': 11, 'af': 11, 'sl': 8, 'hr': 6, 'no': 5, 'sv': 5, 'da': 5, 'lv': 4, 'fi': 3, 'sk': 3, 'bg': 3, 'hu': 2, 'sq': 2, 'pl': 2, 'lt': 2, 'el': 1, 'vi': 1})\n"
     ]
    }
   ],
   "source": [
    "tweet_languages_count = Counter(tweet_languages)\n",
    "print(tweet_languages_count)"
   ]
  },
  {
   "cell_type": "markdown",
   "metadata": {},
   "source": [
    "#### Plot language counts"
   ]
  },
  {
   "cell_type": "code",
   "execution_count": 18,
   "metadata": {},
   "outputs": [
    {
     "data": {
      "image/png": "[encoded data removed]",
      "text/plain": [
       "<Figure size 432x288 with 1 Axes>"
      ]
     },
     "metadata": {},
     "output_type": "display_data"
    }
   ],
   "source": [
    "tweet_lang_types = []\n",
    "tweet_lang_counts = []\n",
    "sorted_tweet_languages_count = tweet_languages_count.most_common(10)\n",
    "\n",
    "for lang, count in sorted_tweet_languages_count:\n",
    "    tweet_lang_types.append(lang)\n",
    "    tweet_lang_counts.append(count)\n",
    "\n",
    "tweet_lang_types_long = []\n",
    "for lang in tweet_lang_types:\n",
    "    try:\n",
    "        lang_long = pylang.languages.get(alpha2 = lang).name\n",
    "        tweet_lang_types_long.append(lang_long)\n",
    "    except:\n",
    "        # For type n/a, will throw an error\n",
    "        tweet_lang_types_long.append('N/A')\n",
    "\n",
    "# Labels\n",
    "plt.title('Iran Tweet Languages (Top 10) for First 10,000 Tweets')\n",
    "plt.xlabel('Number of Tweets')\n",
    "plt.ylabel('Language')\n",
    "\n",
    "# Add Data\n",
    "y_pos = np.arange(len(tweet_lang_types_long))\n",
    "sns.set_style('whitegrid')\n",
    "plt.barh(y_pos, tweet_lang_counts, color = twitter_color, edgecolor = twitter_color)\n",
    "plt.yticks(y_pos, tweet_lang_types_long)\n",
    "\n",
    "plt.show()"
   ]
  },
  {
   "cell_type": "markdown",
   "metadata": {},
   "source": [
    "---\n",
    "## Account Language Summary"
   ]
  },
  {
   "cell_type": "code",
   "execution_count": 171,
   "metadata": {},
   "outputs": [],
   "source": [
    "accounts_filename_one = '../Data/iranian_users_csv_hashed.csv'\n",
    "accounts_filename_two = '../Data/iran_201901_1_users_csv_hashed.csv'\n",
    "\n",
    "# Import datasets\n",
    "iran_accounts_one = pd.read_csv(accounts_filename_one, dtype = {\n",
    "    \"userid\": str,\n",
    "    \"user_display_name\": str,\n",
    "    \"user_screen_name\": str,\n",
    "    \"user_reported_location\": str,\n",
    "    \"user_profile_description\": str,\n",
    "    \"user_profile_url\": str,\n",
    "    \"follower_count\": str,\n",
    "    \"following_count\": str,\n",
    "    \"account_creation_date\": str,\n",
    "    \"account_language\": str,\n",
    "})\n",
    "iran_accounts_two = pd.read_csv(accounts_filename_two, dtype = {\n",
    "    \"userid\": str,\n",
    "    \"user_display_name\": str,\n",
    "    \"user_screen_name\": str,\n",
    "    \"user_reported_location\": str,\n",
    "    \"user_profile_description\": str,\n",
    "    \"user_profile_url\": str,\n",
    "    \"follower_count\": str,\n",
    "    \"following_count\": str,\n",
    "    \"account_creation_date\": str,\n",
    "    \"account_language\": str,\n",
    "})"
   ]
  },
  {
   "cell_type": "markdown",
   "metadata": {},
   "source": [
    "#### Combine datasets / Print number of users"
   ]
  },
  {
   "cell_type": "code",
   "execution_count": 20,
   "metadata": {},
   "outputs": [
    {
     "name": "stdout",
     "output_type": "stream",
     "text": [
      "3081\n"
     ]
    }
   ],
   "source": [
    "iran_account_datasets = [iran_accounts_one, iran_accounts_two]\n",
    "iran_users = pd.concat(iran_account_datasets, sort=False)\n",
    "print(len(iran_users))"
   ]
  },
  {
   "cell_type": "markdown",
   "metadata": {},
   "source": [
    "#### Print available features"
   ]
  },
  {
   "cell_type": "code",
   "execution_count": 21,
   "metadata": {},
   "outputs": [
    {
     "data": {
      "text/plain": [
       "Index(['userid', 'user_display_name', 'user_screen_name',\n",
       "       'user_reported_location', 'user_profile_description',\n",
       "       'user_profile_url', 'follower_count', 'following_count',\n",
       "       'account_creation_date', 'account_language'],\n",
       "      dtype='object')"
      ]
     },
     "execution_count": 21,
     "metadata": {},
     "output_type": "execute_result"
    }
   ],
   "source": [
    "iran_users.columns"
   ]
  },
  {
   "cell_type": "markdown",
   "metadata": {},
   "source": [
    "#### Sample data of account languages"
   ]
  },
  {
   "cell_type": "code",
   "execution_count": 22,
   "metadata": {},
   "outputs": [
    {
     "name": "stdout",
     "output_type": "stream",
     "text": [
      "en\n",
      "en\n",
      "en-gb\n",
      "en\n",
      "en\n"
     ]
    }
   ],
   "source": [
    "for elem in iran_users.head(5)['account_language']:\n",
    "    print(elem)"
   ]
  },
  {
   "cell_type": "markdown",
   "metadata": {},
   "source": [
    "#### Get counts of each language"
   ]
  },
  {
   "cell_type": "code",
   "execution_count": 37,
   "metadata": {},
   "outputs": [
    {
     "name": "stdout",
     "output_type": "stream",
     "text": [
      "Counter({'en': 2773, 'ar': 118, 'fa': 80, 'id': 52, 'en-gb': 30, 'es': 11, 'tr': 11, 'fr': 3, 'ru': 1, 'el': 1, 'de': 1})\n"
     ]
    }
   ],
   "source": [
    "languages_count = Counter(iran_users['account_language'])\n",
    "print(languages_count)"
   ]
  },
  {
   "cell_type": "markdown",
   "metadata": {},
   "source": [
    "#### Plot language counts"
   ]
  },
  {
   "cell_type": "code",
   "execution_count": 192,
   "metadata": {},
   "outputs": [
    {
     "data": {
      "image/png": "[encoded data removed]",
      "text/plain": [
       "<Figure size 432x288 with 1 Axes>"
      ]
     },
     "metadata": {},
     "output_type": "display_data"
    }
   ],
   "source": [
    "lang_types = []\n",
    "lang_counts = []\n",
    "sorted_languages_count = languages_count.most_common(10)\n",
    "\n",
    "for lang, count in sorted_languages_count:\n",
    "    lang_types.append(lang)\n",
    "    lang_counts.append(count)\n",
    "\n",
    "lang_types_long = []\n",
    "for lang in lang_types:\n",
    "    try:\n",
    "        lang_long = pylang.languages.get(alpha2 = lang).name\n",
    "        lang_types_long.append(lang_long)\n",
    "    except:\n",
    "        # For type n/a, will throw an error\n",
    "        lang_types_long.append('N/A')\n",
    "\n",
    "# Labels\n",
    "plt.title('Iran Account Languages')\n",
    "plt.xlabel('Number of Accounts')\n",
    "plt.ylabel('Language')\n",
    "\n",
    "# Add Data\n",
    "y_pos = np.arange(len(lang_types_long))\n",
    "sns.set_style('whitegrid')\n",
    "plt.barh(y_pos, lang_counts, color = twitter_color, edgecolor = twitter_color)\n",
    "plt.yticks(y_pos, lang_types_long)\n",
    "\n",
    "plt.show()"
   ]
  },
  {
   "cell_type": "code",
   "execution_count": null,
   "metadata": {},
   "outputs": [],
   "source": []
  }
 ],
 "metadata": {
  "kernelspec": {
   "display_name": "Python 3",
   "language": "python",
   "name": "python3"
  },
  "language_info": {
   "codemirror_mode": {
    "name": "ipython",
    "version": 3
   },
   "file_extension": ".py",
   "mimetype": "text/x-python",
   "name": "python",
   "nbconvert_exporter": "python",
   "pygments_lexer": "ipython3",
   "version": "3.7.2"
  }
 },
 "nbformat": 4,
 "nbformat_minor": 2
}
