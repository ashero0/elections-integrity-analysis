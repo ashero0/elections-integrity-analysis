{
 "cells": [
  {
   "cell_type": "markdown",
   "metadata": {},
   "source": [
    "# Language Analysis: Venezuela\n",
    "Analyzing the language of **accounts and tweets** identified by Twitter to be associated with the country's information operations."
   ]
  },
  {
   "cell_type": "code",
   "execution_count": 28,
   "metadata": {},
   "outputs": [],
   "source": [
    "import pandas as pd\n",
    "import numpy as np\n",
    "from matplotlib import pyplot\n",
    "import langdetect\n",
    "from collections import Counter"
   ]
  },
  {
   "cell_type": "code",
   "execution_count": 7,
   "metadata": {},
   "outputs": [],
   "source": [
    "filename_one = '../Data/venezuela_201901_1_tweets_csv_hashed.csv'\n",
    "filename_two = '../Data/venezuela_201901_2_tweets_csv_hashed.csv'"
   ]
  },
  {
   "cell_type": "code",
   "execution_count": 8,
   "metadata": {},
   "outputs": [],
   "source": [
    "# Import dataset 1\n",
    "venezuela_one = pd.read_csv(filename_one, dtype = {\n",
    "    \"tweetid\": str,\n",
    "    \"userid\": str,\n",
    "    \"user_display_name\": str,\n",
    "    \"user_screen_name\": str,\n",
    "    \"user_reported_location\": str,\n",
    "    \"user_profile_description\": str,\n",
    "    \"user_profile_url\": str,\n",
    "    \"follower_count\": str,\n",
    "    \"following_count\": str,\n",
    "    \"account_creation_date\": str,\n",
    "    \"account_language\": str,\n",
    "    \"tweet_text\": str,\n",
    "    \"tweet_time\": str,\n",
    "    \"tweet_client_name\": str,\n",
    "    \"in_reply_to_tweetid\": str,\n",
    "    \"in_reply_to_userid\": str,\n",
    "    \"quoted_tweet_tweetid\": str,\n",
    "    \"is_retweet\": bool,\n",
    "    \"retweet_userid\": str,\n",
    "    \"retweet_tweetid\": str,\n",
    "    \"latitude\": str,\n",
    "    \"longitude\": str,\n",
    "    \"quote_count\": str,\n",
    "    \"reply_count\": str,\n",
    "    \"like_count\": str,\n",
    "    \"retweet_count\": str,\n",
    "    \"hashtags\": str,\n",
    "    \"urls\": str,\n",
    "    \"user_mentions\": str,\n",
    "    \"poll_choices\": str,\n",
    "})"
   ]
  },
  {
   "cell_type": "code",
   "execution_count": 9,
   "metadata": {},
   "outputs": [],
   "source": [
    "# Import dataset 2\n",
    "venezuela_two = pd.read_csv(filename_two, dtype = {\n",
    "    \"tweetid\": str,\n",
    "    \"userid\": str,\n",
    "    \"user_display_name\": str,\n",
    "    \"user_screen_name\": str,\n",
    "    \"user_reported_location\": str,\n",
    "    \"user_profile_description\": str,\n",
    "    \"user_profile_url\": str,\n",
    "    \"follower_count\": str,\n",
    "    \"following_count\": str,\n",
    "    \"account_creation_date\": str,\n",
    "    \"account_language\": str,\n",
    "    \"tweet_text\": str,\n",
    "    \"tweet_time\": str,\n",
    "    \"tweet_client_name\": str,\n",
    "    \"in_reply_to_tweetid\": str,\n",
    "    \"in_reply_to_userid\": str,\n",
    "    \"quoted_tweet_tweetid\": str,\n",
    "    \"is_retweet\": bool,\n",
    "    \"retweet_userid\": str,\n",
    "    \"retweet_tweetid\": str,\n",
    "    \"latitude\": str,\n",
    "    \"longitude\": str,\n",
    "    \"quote_count\": str,\n",
    "    \"reply_count\": str,\n",
    "    \"like_count\": str,\n",
    "    \"retweet_count\": str,\n",
    "    \"hashtags\": str,\n",
    "    \"urls\": str,\n",
    "    \"user_mentions\": str,\n",
    "    \"poll_choices\": str,\n",
    "})"
   ]
  },
  {
   "cell_type": "code",
   "execution_count": 10,
   "metadata": {},
   "outputs": [],
   "source": [
    "# Combine datasets\n",
    "ven_datasets = [venezuela_one, venezuela_two]\n",
    "ven = pd.concat(ven_datasets)"
   ]
  },
  {
   "cell_type": "code",
   "execution_count": 12,
   "metadata": {},
   "outputs": [
    {
     "name": "stdout",
     "output_type": "stream",
     "text": [
      "9946768\n"
     ]
    }
   ],
   "source": [
    "print(len(ven))"
   ]
  },
  {
   "cell_type": "code",
   "execution_count": 13,
   "metadata": {},
   "outputs": [
    {
     "data": {
      "text/plain": [
       "Index(['tweetid', 'userid', 'user_display_name', 'user_screen_name',\n",
       "       'user_reported_location', 'user_profile_description',\n",
       "       'user_profile_url', 'follower_count', 'following_count',\n",
       "       'account_creation_date', 'account_language', 'tweet_text', 'tweet_time',\n",
       "       'tweet_client_name', 'in_reply_to_tweetid', 'in_reply_to_userid',\n",
       "       'quoted_tweet_tweetid', 'is_retweet', 'retweet_userid',\n",
       "       'retweet_tweetid', 'latitude', 'longitude', 'quote_count',\n",
       "       'reply_count', 'like_count', 'retweet_count', 'hashtags', 'urls',\n",
       "       'user_mentions', 'poll_choices'],\n",
       "      dtype='object')"
      ]
     },
     "execution_count": 13,
     "metadata": {},
     "output_type": "execute_result"
    }
   ],
   "source": [
    "ven.columns"
   ]
  },
  {
   "cell_type": "code",
   "execution_count": 24,
   "metadata": {},
   "outputs": [
    {
     "name": "stdout",
     "output_type": "stream",
     "text": [
      "Conozca cuál será el primer país inhabitable por culpa del cambio climático (+capitalismo) https://t.co/8FS6WCyky1 https://t.co/n0bv4I4UJ8\n",
      "es\n",
      "\n",
      "La canciller china dio una rueda de prensa en respuesta a las últimas declaraciones de la Administración Trump  https://t.co/hVXgJmy53M\n",
      "es\n",
      "\n",
      "Ministro de Brasil implicado en casos de corrupción renunció y se reunió con Borges - https://t.co/8OLhCV8aBg https://t.co/IdhFEqCMIe\n",
      "es\n",
      "\n",
      "Frustran un suicidio colectivo en varios países orquestado por un joven de 17 años https://t.co/oYX5xLid6r https://t.co/Q7QOhaONN1\n",
      "es\n",
      "\n",
      "'The Nation': Las Fuerzas Armadas de EE.UU. no pueden ser denominadas las mejores del mundo … https://t.co/OuY3cVXft3\n",
      "es\n",
      "\n"
     ]
    }
   ],
   "source": [
    "# Sample data of tweets / their detected language\n",
    "for elem in ven.head(5)['tweet_text']:\n",
    "    print(elem)\n",
    "    print(langdetect.detect(elem))\n",
    "    print()"
   ]
  },
  {
   "cell_type": "code",
   "execution_count": null,
   "metadata": {},
   "outputs": [],
   "source": [
    "# Detect language of tweets & store in a list\n",
    "tweet_languages = []\n",
    "for tweet_text in ven['tweet_text']:\n",
    "    lang = langdetect.detect(elem)\n",
    "    tweet_languages.append(lang)"
   ]
  },
  {
   "cell_type": "code",
   "execution_count": null,
   "metadata": {},
   "outputs": [],
   "source": [
    "# Get counts of each language\n",
    "tweet_languages_count = Counter(tweet_languages)\n",
    "print(tweet_languages_count)"
   ]
  },
  {
   "cell_type": "code",
   "execution_count": null,
   "metadata": {},
   "outputs": [],
   "source": [
    "# Plot language counts\n",
    "lang_types = []\n",
    "lang_counts = []\n",
    "for lang in tweet_languages_count:\n",
    "    lang_types.append(lang)\n",
    "    count = tweet_languages_count[lang]\n",
    "    lang_counts.append(count)\n",
    "\n",
    "pyplot.pie(lang_counts, labels = lang_types)\n",
    "pyplot.show()"
   ]
  },
  {
   "cell_type": "code",
   "execution_count": null,
   "metadata": {},
   "outputs": [],
   "source": []
  }
 ],
 "metadata": {
  "kernelspec": {
   "display_name": "Python 3",
   "language": "python",
   "name": "python3"
  },
  "language_info": {
   "codemirror_mode": {
    "name": "ipython",
    "version": 3
   },
   "file_extension": ".py",
   "mimetype": "text/x-python",
   "name": "python",
   "nbconvert_exporter": "python",
   "pygments_lexer": "ipython3",
   "version": "3.7.2"
  }
 },
 "nbformat": 4,
 "nbformat_minor": 2
}
