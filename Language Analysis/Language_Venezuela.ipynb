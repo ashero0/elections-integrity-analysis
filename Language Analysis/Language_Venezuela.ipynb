{
 "cells": [
  {
   "cell_type": "markdown",
   "metadata": {},
   "source": [
    "# Language Analysis: Venezuela\n",
    "Analyzing the language of **accounts and tweets** identified by Twitter to be associated with the country's information operations."
   ]
  },
  {
   "cell_type": "code",
   "execution_count": 1,
   "metadata": {},
   "outputs": [],
   "source": [
    "import pandas as pd\n",
    "import numpy as np\n",
    "from matplotlib import pyplot as plt\n",
    "import langdetect\n",
    "from collections import Counter\n",
    "import iso639 as pylang\n",
    "import seaborn as sns\n",
    "\n",
    "twitter_color = (0.114, 0.631, 0.949, 1.0)"
   ]
  },
  {
   "cell_type": "markdown",
   "metadata": {},
   "source": [
    "---\n",
    "## Tweet Language Summary"
   ]
  },
  {
   "cell_type": "code",
   "execution_count": 2,
   "metadata": {},
   "outputs": [],
   "source": [
    "filename_one = '../Data/venezuela_201901_1_tweets_csv_hashed.csv'\n",
    "filename_two = '../Data/venezuela_201901_2_tweets_csv_hashed.csv'"
   ]
  },
  {
   "cell_type": "markdown",
   "metadata": {},
   "source": [
    "#### Import dataset 1"
   ]
  },
  {
   "cell_type": "code",
   "execution_count": 3,
   "metadata": {},
   "outputs": [],
   "source": [
    "venezuela_one = pd.read_csv(filename_one, dtype = {\n",
    "    \"tweetid\": str,\n",
    "    \"userid\": str,\n",
    "    \"user_display_name\": str,\n",
    "    \"user_screen_name\": str,\n",
    "    \"user_reported_location\": str,\n",
    "    \"user_profile_description\": str,\n",
    "    \"user_profile_url\": str,\n",
    "    \"follower_count\": str,\n",
    "    \"following_count\": str,\n",
    "    \"account_creation_date\": str,\n",
    "    \"account_language\": str,\n",
    "    \"tweet_text\": str,\n",
    "    \"tweet_time\": str,\n",
    "    \"tweet_client_name\": str,\n",
    "    \"in_reply_to_tweetid\": str,\n",
    "    \"in_reply_to_userid\": str,\n",
    "    \"quoted_tweet_tweetid\": str,\n",
    "    \"is_retweet\": bool,\n",
    "    \"retweet_userid\": str,\n",
    "    \"retweet_tweetid\": str,\n",
    "    \"latitude\": str,\n",
    "    \"longitude\": str,\n",
    "    \"quote_count\": str,\n",
    "    \"reply_count\": str,\n",
    "    \"like_count\": str,\n",
    "    \"retweet_count\": str,\n",
    "    \"hashtags\": str,\n",
    "    \"urls\": str,\n",
    "    \"user_mentions\": str,\n",
    "    \"poll_choices\": str,\n",
    "})"
   ]
  },
  {
   "cell_type": "markdown",
   "metadata": {},
   "source": [
    "#### Import dataset 2"
   ]
  },
  {
   "cell_type": "code",
   "execution_count": 9,
   "metadata": {},
   "outputs": [],
   "source": [
    "venezuela_two = pd.read_csv(filename_two, dtype = {\n",
    "    \"tweetid\": str,\n",
    "    \"userid\": str,\n",
    "    \"user_display_name\": str,\n",
    "    \"user_screen_name\": str,\n",
    "    \"user_reported_location\": str,\n",
    "    \"user_profile_description\": str,\n",
    "    \"user_profile_url\": str,\n",
    "    \"follower_count\": str,\n",
    "    \"following_count\": str,\n",
    "    \"account_creation_date\": str,\n",
    "    \"account_language\": str,\n",
    "    \"tweet_text\": str,\n",
    "    \"tweet_time\": str,\n",
    "    \"tweet_client_name\": str,\n",
    "    \"in_reply_to_tweetid\": str,\n",
    "    \"in_reply_to_userid\": str,\n",
    "    \"quoted_tweet_tweetid\": str,\n",
    "    \"is_retweet\": bool,\n",
    "    \"retweet_userid\": str,\n",
    "    \"retweet_tweetid\": str,\n",
    "    \"latitude\": str,\n",
    "    \"longitude\": str,\n",
    "    \"quote_count\": str,\n",
    "    \"reply_count\": str,\n",
    "    \"like_count\": str,\n",
    "    \"retweet_count\": str,\n",
    "    \"hashtags\": str,\n",
    "    \"urls\": str,\n",
    "    \"user_mentions\": str,\n",
    "    \"poll_choices\": str,\n",
    "})"
   ]
  },
  {
   "cell_type": "markdown",
   "metadata": {},
   "source": [
    "#### Combine datasets"
   ]
  },
  {
   "cell_type": "code",
   "execution_count": 10,
   "metadata": {},
   "outputs": [],
   "source": [
    "ven_datasets = [venezuela_one, venezuela_two]\n",
    "ven = pd.concat(ven_datasets, sort=False)"
   ]
  },
  {
   "cell_type": "markdown",
   "metadata": {},
   "source": [
    "#### Print number of tweets"
   ]
  },
  {
   "cell_type": "code",
   "execution_count": 11,
   "metadata": {},
   "outputs": [
    {
     "name": "stdout",
     "output_type": "stream",
     "text": [
      "9946768\n"
     ]
    }
   ],
   "source": [
    "print(len(ven))"
   ]
  },
  {
   "cell_type": "markdown",
   "metadata": {},
   "source": [
    "#### Print features that we can access"
   ]
  },
  {
   "cell_type": "code",
   "execution_count": 12,
   "metadata": {},
   "outputs": [
    {
     "data": {
      "text/plain": [
       "Index(['tweetid', 'userid', 'user_display_name', 'user_screen_name',\n",
       "       'user_reported_location', 'user_profile_description',\n",
       "       'user_profile_url', 'follower_count', 'following_count',\n",
       "       'account_creation_date', 'account_language', 'tweet_text', 'tweet_time',\n",
       "       'tweet_client_name', 'in_reply_to_tweetid', 'in_reply_to_userid',\n",
       "       'quoted_tweet_tweetid', 'is_retweet', 'retweet_userid',\n",
       "       'retweet_tweetid', 'latitude', 'longitude', 'quote_count',\n",
       "       'reply_count', 'like_count', 'retweet_count', 'hashtags', 'urls',\n",
       "       'user_mentions', 'poll_choices'],\n",
       "      dtype='object')"
      ]
     },
     "execution_count": 12,
     "metadata": {},
     "output_type": "execute_result"
    }
   ],
   "source": [
    "ven.columns"
   ]
  },
  {
   "cell_type": "markdown",
   "metadata": {},
   "source": [
    "#### Sample data of tweets & their detected language"
   ]
  },
  {
   "cell_type": "code",
   "execution_count": null,
   "metadata": {
    "scrolled": false
   },
   "outputs": [
    {
     "name": "stdout",
     "output_type": "stream",
     "text": [
      "Conozca cuál será el primer país inhabitable por culpa del cambio climático (+capitalismo) https://t.co/8FS6WCyky1 https://t.co/n0bv4I4UJ8\n",
      "es\n",
      "\n",
      "La canciller china dio una rueda de prensa en respuesta a las últimas declaraciones de la Administración Trump  https://t.co/hVXgJmy53M\n",
      "es\n",
      "\n",
      "Ministro de Brasil implicado en casos de corrupción renunció y se reunió con Borges - https://t.co/8OLhCV8aBg https://t.co/IdhFEqCMIe\n",
      "es\n",
      "\n",
      "Frustran un suicidio colectivo en varios países orquestado por un joven de 17 años https://t.co/oYX5xLid6r https://t.co/Q7QOhaONN1\n",
      "es\n",
      "\n",
      "'The Nation': Las Fuerzas Armadas de EE.UU. no pueden ser denominadas las mejores del mundo … https://t.co/OuY3cVXft3\n",
      "es\n",
      "\n"
     ]
    }
   ],
   "source": [
    "for elem in ven.head(5)['tweet_text']:\n",
    "    print(elem)\n",
    "    print(langdetect.detect(elem))\n",
    "    print()"
   ]
  },
  {
   "cell_type": "markdown",
   "metadata": {},
   "source": [
    "#### Detect language of tweets & store in a list\n",
    "Only do first 10,000 tweets for Milestone 1"
   ]
  },
  {
   "cell_type": "code",
   "execution_count": 23,
   "metadata": {},
   "outputs": [],
   "source": [
    "tweet_languages = []\n",
    "num_of_tweets = 10000\n",
    "ven_tweets = ven.head(num_of_tweets)['tweet_text']\n",
    "\n",
    "for tweet_text in ven_tweets:\n",
    "    lang = ''\n",
    "    try:\n",
    "        lang = langdetect.detect(tweet_text)\n",
    "    except:\n",
    "        lang = 'n/a'\n",
    "    tweet_languages.append(lang)"
   ]
  },
  {
   "cell_type": "markdown",
   "metadata": {},
   "source": [
    "#### Get counts of each language"
   ]
  },
  {
   "cell_type": "code",
   "execution_count": 24,
   "metadata": {},
   "outputs": [
    {
     "name": "stdout",
     "output_type": "stream",
     "text": [
      "Counter({'es': 9753, 'pt': 101, 'ca': 84, 'en': 22, 'it': 21, 'fr': 7, 'n/a': 3, 'de': 2, 'ro': 2, 'tl': 2, 'id': 1, 'nl': 1, 'et': 1})\n"
     ]
    }
   ],
   "source": [
    "tweet_languages_count = Counter(tweet_languages)\n",
    "print(tweet_languages_count)"
   ]
  },
  {
   "cell_type": "markdown",
   "metadata": {},
   "source": [
    "#### Plot language counts"
   ]
  },
  {
   "cell_type": "code",
   "execution_count": 30,
   "metadata": {},
   "outputs": [
    {
     "data": {
      "image/png": "[encoded data removed]",
      "text/plain": [
       "<Figure size 432x288 with 1 Axes>"
      ]
     },
     "metadata": {},
     "output_type": "display_data"
    }
   ],
   "source": [
    "tweet_lang_types = []\n",
    "tweet_lang_counts = []\n",
    "sorted_tweet_languages_count = tweet_languages_count.most_common(3)\n",
    "\n",
    "for lang, count in sorted_tweet_languages_count:\n",
    "    tweet_lang_types.append(lang)\n",
    "    tweet_lang_counts.append(count)\n",
    "\n",
    "tweet_lang_types_long = []\n",
    "for lang in tweet_lang_types:\n",
    "    try:\n",
    "        lang_long = pylang.languages.get(alpha2 = lang).name\n",
    "        tweet_lang_types_long.append(lang_long)\n",
    "    except:\n",
    "        # For type n/a, will throw an error\n",
    "        tweet_lang_types_long.append('N/A')\n",
    "\n",
    "# Labels\n",
    "plt.title('Venezuela Tweet Languages (Top 3) for First 10,000 Tweets')\n",
    "plt.xlabel('Number of Tweets')\n",
    "plt.ylabel('Language')\n",
    "\n",
    "# Add Data\n",
    "y_pos = np.arange(len(tweet_lang_types_long))\n",
    "sns.set_style('whitegrid')\n",
    "plt.barh(y_pos, tweet_lang_counts, color = twitter_color, edgecolor = twitter_color)\n",
    "plt.yticks(y_pos, tweet_lang_types_long)\n",
    "\n",
    "plt.show()"
   ]
  },
  {
   "cell_type": "markdown",
   "metadata": {},
   "source": [
    "---\n",
    "## Account Language Summary"
   ]
  },
  {
   "cell_type": "code",
   "execution_count": 7,
   "metadata": {},
   "outputs": [],
   "source": [
    "accounts_filename_one = '../Data/venezuela_201901_1_users_csv_hashed.csv'\n",
    "accounts_filename_two = '../Data/venezuela_201901_2_users_csv_hashed.csv'\n",
    "\n",
    "# Import datasets\n",
    "ven_accounts_one = pd.read_csv(accounts_filename_one, dtype = {\n",
    "    \"userid\": str,\n",
    "    \"user_display_name\": str,\n",
    "    \"user_screen_name\": str,\n",
    "    \"user_reported_location\": str,\n",
    "    \"user_profile_description\": str,\n",
    "    \"user_profile_url\": str,\n",
    "    \"follower_count\": str,\n",
    "    \"following_count\": str,\n",
    "    \"account_creation_date\": str,\n",
    "    \"account_language\": str,\n",
    "})\n",
    "ven_accounts_two = pd.read_csv(accounts_filename_two, dtype = {\n",
    "    \"userid\": str,\n",
    "    \"user_display_name\": str,\n",
    "    \"user_screen_name\": str,\n",
    "    \"user_reported_location\": str,\n",
    "    \"user_profile_description\": str,\n",
    "    \"user_profile_url\": str,\n",
    "    \"follower_count\": str,\n",
    "    \"following_count\": str,\n",
    "    \"account_creation_date\": str,\n",
    "    \"account_language\": str,\n",
    "})"
   ]
  },
  {
   "cell_type": "markdown",
   "metadata": {},
   "source": [
    "#### Combine datasets / Print number of users"
   ]
  },
  {
   "cell_type": "code",
   "execution_count": 8,
   "metadata": {},
   "outputs": [
    {
     "name": "stdout",
     "output_type": "stream",
     "text": [
      "1951\n"
     ]
    }
   ],
   "source": [
    "ven_account_datasets = [ven_accounts_one, ven_accounts_two]\n",
    "ven_users = pd.concat(ven_account_datasets, sort=False)\n",
    "print(len(ven_users))"
   ]
  },
  {
   "cell_type": "markdown",
   "metadata": {},
   "source": [
    "#### Print available features"
   ]
  },
  {
   "cell_type": "code",
   "execution_count": 26,
   "metadata": {},
   "outputs": [
    {
     "data": {
      "text/plain": [
       "Index(['userid', 'user_display_name', 'user_screen_name',\n",
       "       'user_reported_location', 'user_profile_description',\n",
       "       'user_profile_url', 'follower_count', 'following_count',\n",
       "       'account_creation_date', 'account_language'],\n",
       "      dtype='object')"
      ]
     },
     "execution_count": 26,
     "metadata": {},
     "output_type": "execute_result"
    }
   ],
   "source": [
    "ven_users.columns"
   ]
  },
  {
   "cell_type": "markdown",
   "metadata": {},
   "source": [
    "#### Sample data of account languages"
   ]
  },
  {
   "cell_type": "code",
   "execution_count": 27,
   "metadata": {},
   "outputs": [
    {
     "name": "stdout",
     "output_type": "stream",
     "text": [
      "es\n",
      "es\n",
      "es\n",
      "es\n",
      "es\n"
     ]
    }
   ],
   "source": [
    "for elem in ven_users.head(5)['account_language']:\n",
    "    print(elem)"
   ]
  },
  {
   "cell_type": "markdown",
   "metadata": {},
   "source": [
    "#### Get counts of each language"
   ]
  },
  {
   "cell_type": "code",
   "execution_count": 28,
   "metadata": {},
   "outputs": [
    {
     "name": "stdout",
     "output_type": "stream",
     "text": [
      "Counter({'es': 1886, 'en': 64, 'pt': 1})\n"
     ]
    }
   ],
   "source": [
    "languages_count = Counter(ven_users['account_language'])\n",
    "print(languages_count)"
   ]
  },
  {
   "cell_type": "markdown",
   "metadata": {},
   "source": [
    "#### Plot language counts"
   ]
  },
  {
   "cell_type": "code",
   "execution_count": 29,
   "metadata": {},
   "outputs": [
    {
     "data": {
      "image/png": "[encoded data removed]",
      "text/plain": [
       "<Figure size 432x288 with 1 Axes>"
      ]
     },
     "metadata": {},
     "output_type": "display_data"
    }
   ],
   "source": [
    "lang_types = []\n",
    "lang_counts = []\n",
    "sorted_languages_count = languages_count.most_common(10)\n",
    "\n",
    "for lang, count in sorted_languages_count:\n",
    "    lang_types.append(lang)\n",
    "    lang_counts.append(count)\n",
    "\n",
    "lang_types_long = []\n",
    "for lang in lang_types:\n",
    "    try:\n",
    "        lang_long = pylang.languages.get(alpha2 = lang).name\n",
    "        lang_types_long.append(lang_long)\n",
    "    except:\n",
    "        # For type n/a, will throw an error\n",
    "        lang_types_long.append('N/A')\n",
    "\n",
    "# Labels\n",
    "plt.title('Venezuela Account Languages')\n",
    "plt.xlabel('Number of Accounts')\n",
    "plt.ylabel('Language')\n",
    "\n",
    "# Add Data\n",
    "y_pos = np.arange(len(lang_types_long))\n",
    "sns.set_style('whitegrid')\n",
    "plt.barh(y_pos, lang_counts, color = twitter_color, edgecolor = twitter_color)\n",
    "plt.yticks(y_pos, lang_types_long)\n",
    "\n",
    "plt.show()"
   ]
  },
  {
   "cell_type": "code",
   "execution_count": null,
   "metadata": {},
   "outputs": [],
   "source": []
  }
 ],
 "metadata": {
  "kernelspec": {
   "display_name": "Python 3",
   "language": "python",
   "name": "python3"
  },
  "language_info": {
   "codemirror_mode": {
    "name": "ipython",
    "version": 3
   },
   "file_extension": ".py",
   "mimetype": "text/x-python",
   "name": "python",
   "nbconvert_exporter": "python",
   "pygments_lexer": "ipython3",
   "version": "3.7.2"
  }
 },
 "nbformat": 4,
 "nbformat_minor": 2
}
