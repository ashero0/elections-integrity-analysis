{
 "cells": [
  {
   "cell_type": "markdown",
   "metadata": {},
   "source": [
    "# Language Analysis: Venezuela\n",
    "Analyzing the language of **accounts and tweets** identified by Twitter to be associated with the country's information operations."
   ]
  },
  {
   "cell_type": "code",
   "execution_count": 12,
   "metadata": {},
   "outputs": [],
   "source": [
    "import pandas as pd\n",
    "import numpy as np\n",
    "from matplotlib import pyplot\n",
    "import langdetect\n",
    "from collections import Counter\n",
    "import iso639 as pylang"
   ]
  },
  {
   "cell_type": "code",
   "execution_count": 2,
   "metadata": {},
   "outputs": [],
   "source": [
    "filename = '../Data/bangladesh_201901_1_tweets_csv_hashed.csv'"
   ]
  },
  {
   "cell_type": "code",
   "execution_count": 3,
   "metadata": {},
   "outputs": [],
   "source": [
    "# Import dataset\n",
    "ban = pd.read_csv(filename, dtype = {\n",
    "    \"tweetid\": str,\n",
    "    \"userid\": str,\n",
    "    \"user_display_name\": str,\n",
    "    \"user_screen_name\": str,\n",
    "    \"user_reported_location\": str,\n",
    "    \"user_profile_description\": str,\n",
    "    \"user_profile_url\": str,\n",
    "    \"follower_count\": str,\n",
    "    \"following_count\": str,\n",
    "    \"account_creation_date\": str,\n",
    "    \"account_language\": str,\n",
    "    \"tweet_text\": str,\n",
    "    \"tweet_time\": str,\n",
    "    \"tweet_client_name\": str,\n",
    "    \"in_reply_to_tweetid\": str,\n",
    "    \"in_reply_to_userid\": str,\n",
    "    \"quoted_tweet_tweetid\": str,\n",
    "    \"is_retweet\": bool,\n",
    "    \"retweet_userid\": str,\n",
    "    \"retweet_tweetid\": str,\n",
    "    \"latitude\": str,\n",
    "    \"longitude\": str,\n",
    "    \"quote_count\": str,\n",
    "    \"reply_count\": str,\n",
    "    \"like_count\": str,\n",
    "    \"retweet_count\": str,\n",
    "    \"hashtags\": str,\n",
    "    \"urls\": str,\n",
    "    \"user_mentions\": str,\n",
    "    \"poll_choices\": str,\n",
    "})"
   ]
  },
  {
   "cell_type": "code",
   "execution_count": 4,
   "metadata": {},
   "outputs": [
    {
     "name": "stdout",
     "output_type": "stream",
     "text": [
      "26214\n"
     ]
    }
   ],
   "source": [
    "print(len(ban))"
   ]
  },
  {
   "cell_type": "code",
   "execution_count": 5,
   "metadata": {},
   "outputs": [
    {
     "data": {
      "text/plain": [
       "Index(['tweetid', 'userid', 'user_display_name', 'user_screen_name',\n",
       "       'user_reported_location', 'user_profile_description',\n",
       "       'user_profile_url', 'follower_count', 'following_count',\n",
       "       'account_creation_date', 'account_language', 'tweet_text', 'tweet_time',\n",
       "       'tweet_client_name', 'in_reply_to_tweetid', 'in_reply_to_userid',\n",
       "       'quoted_tweet_tweetid', 'is_retweet', 'retweet_userid',\n",
       "       'retweet_tweetid', 'latitude', 'longitude', 'quote_count',\n",
       "       'reply_count', 'like_count', 'retweet_count', 'hashtags', 'urls',\n",
       "       'user_mentions', 'poll_choices'],\n",
       "      dtype='object')"
      ]
     },
     "execution_count": 5,
     "metadata": {},
     "output_type": "execute_result"
    }
   ],
   "source": [
    "ban.columns"
   ]
  },
  {
   "cell_type": "markdown",
   "metadata": {},
   "source": [
    "## Tweet Language Summary"
   ]
  },
  {
   "cell_type": "code",
   "execution_count": 6,
   "metadata": {},
   "outputs": [
    {
     "name": "stdout",
     "output_type": "stream",
     "text": [
      "হকিতে তিনি নেই, তিনি আছেন https://t.co/sAMErcn3OF\n",
      "bn\n",
      "\n",
      "মুম্বাই চলচ্চিত্রের অঘটনঘটনপটিয়সীদের কথা বললে.. সালমান খানের নাম আসবেই। আর বলিউডের... https://t.co/CQaa7w0DpA\n",
      "bn\n",
      "\n",
      "ডাকসু নিয়ে ছাত্র নেতাদের সঙ্গে রোববার আলোচনায় বসবে ঢাবি প্রশাসন https://t.co/D3ZbQUZ4gD\n",
      "bn\n",
      "\n",
      "ব্রাহ্মণবাড়িয়ায় স্বামীকে হত্যার দায়ে স্ত্রীসহ ৪ জনের মৃত্যুদণ্ড https://t.co/SzW84Pfewz\n",
      "bn\n",
      "\n",
      "র‌্যাবের বৈশাখে পালকিতে চড়ে মঞ্চে এলেন স্বরাষ্ট্রমন্ত্রী https://t.co/wLSX6f2Jti\n",
      "bn\n",
      "\n"
     ]
    }
   ],
   "source": [
    "# Sample data of tweets / their detected language\n",
    "for elem in ban.head(5)['tweet_text']:\n",
    "    print(elem)\n",
    "    print(langdetect.detect(elem))\n",
    "    print()"
   ]
  },
  {
   "cell_type": "code",
   "execution_count": 7,
   "metadata": {},
   "outputs": [],
   "source": [
    "# Detect language of tweets & store in a list\n",
    "tweet_languages = []\n",
    "for tweet_text in ban['tweet_text']:\n",
    "    lang = langdetect.detect(elem)\n",
    "    tweet_languages.append(lang)"
   ]
  },
  {
   "cell_type": "code",
   "execution_count": 33,
   "metadata": {},
   "outputs": [
    {
     "name": "stdout",
     "output_type": "stream",
     "text": [
      "Counter({'bn': 26214})\n"
     ]
    }
   ],
   "source": [
    "# Get counts of each language\n",
    "tweet_languages_count = Counter(tweet_languages)\n",
    "print(tweet_languages_count)"
   ]
  },
  {
   "cell_type": "code",
   "execution_count": 35,
   "metadata": {},
   "outputs": [
    {
     "data": {
      "image/png": "[encoded data removed]",
      "text/plain": [
       "<Figure size 432x288 with 1 Axes>"
      ]
     },
     "metadata": {},
     "output_type": "display_data"
    }
   ],
   "source": [
    "# Plot language counts\n",
    "tweet_lang_types = []\n",
    "tweet_lang_counts = []\n",
    "for lang in tweet_languages_count:\n",
    "    tweet_lang_types.append(lang)\n",
    "    count = tweet_languages_count[lang]\n",
    "    tweet_lang_counts.append(count)\n",
    "\n",
    "tweet_lang_types_long = []\n",
    "for lang in tweet_lang_types:\n",
    "    lang_long = pylang.languages.get(alpha2 = lang).name\n",
    "    tweet_lang_types_long.append(lang_long)\n",
    "    \n",
    "pyplot.pie(tweet_lang_counts, labels = tweet_lang_types_long)\n",
    "pyplot.title('Bangladesh Tweet Languages')\n",
    "pyplot.show()"
   ]
  },
  {
   "cell_type": "markdown",
   "metadata": {},
   "source": [
    "## Account Language Summary"
   ]
  },
  {
   "cell_type": "code",
   "execution_count": 18,
   "metadata": {},
   "outputs": [
    {
     "name": "stdout",
     "output_type": "stream",
     "text": [
      "en\n",
      "en\n",
      "en\n",
      "en\n",
      "en\n"
     ]
    }
   ],
   "source": [
    "# Sample data of account languages\n",
    "for elem in ban.head(5)['account_language']:\n",
    "    print(elem)"
   ]
  },
  {
   "cell_type": "code",
   "execution_count": 31,
   "metadata": {},
   "outputs": [
    {
     "name": "stdout",
     "output_type": "stream",
     "text": [
      "Counter({'en': 26214})\n"
     ]
    }
   ],
   "source": [
    "# Get counts of each language\n",
    "languages_count = Counter(ban['account_language'])\n",
    "print(languages_count)"
   ]
  },
  {
   "cell_type": "code",
   "execution_count": 32,
   "metadata": {},
   "outputs": [
    {
     "data": {
      "image/png": "[encoded data removed]",
      "text/plain": [
       "<Figure size 432x288 with 1 Axes>"
      ]
     },
     "metadata": {},
     "output_type": "display_data"
    }
   ],
   "source": [
    "# Plot language counts\n",
    "lang_types = []\n",
    "lang_counts = []\n",
    "for lang in languages_count:\n",
    "    lang_types.append(lang)\n",
    "    count = languages_count[lang]\n",
    "    lang_counts.append(count)\n",
    "\n",
    "lang_types_long = []\n",
    "for lang in lang_types:\n",
    "    lang_long = pylang.languages.get(alpha2 = lang).name\n",
    "    lang_types_long.append(lang_long)\n",
    "    \n",
    "pyplot.pie(lang_counts, labels = lang_types_long)\n",
    "pyplot.title('Bangladesh Account Languages')\n",
    "pyplot.show()"
   ]
  },
  {
   "cell_type": "code",
   "execution_count": null,
   "metadata": {},
   "outputs": [],
   "source": []
  }
 ],
 "metadata": {
  "kernelspec": {
   "display_name": "Python 3",
   "language": "python",
   "name": "python3"
  },
  "language_info": {
   "codemirror_mode": {
    "name": "ipython",
    "version": 3
   },
   "file_extension": ".py",
   "mimetype": "text/x-python",
   "name": "python",
   "nbconvert_exporter": "python",
   "pygments_lexer": "ipython3",
   "version": "3.7.2"
  }
 },
 "nbformat": 4,
 "nbformat_minor": 2
}
